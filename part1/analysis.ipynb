{
 "cells": [
  {
   "cell_type": "code",
   "execution_count": 2,
   "metadata": {},
   "outputs": [],
   "source": [
    "import os\n",
    "import pandas as pd\n",
    "import plotly.graph_objects as go"
   ]
  },
  {
   "cell_type": "markdown",
   "metadata": {},
   "source": [
    "### Create a fig folder to store the analysis figures"
   ]
  },
  {
   "cell_type": "code",
   "execution_count": 3,
   "metadata": {},
   "outputs": [],
   "source": [
    "if not os.path.exists(\"fig\"):\n",
    "    os.makedirs(\"fig\")"
   ]
  },
  {
   "cell_type": "markdown",
   "metadata": {},
   "source": [
    "## Graph Requirements"
   ]
  },
  {
   "cell_type": "markdown",
   "metadata": {},
   "source": [
    "- Queries per second (QPS) on the x-axis (the x-axis should range from 0 to 80K). (note: the actual achieved QPS, not the target QPS)\n",
    "- 95th percentile latency on the y-axis (the y-axis should range from 0 to 6 ms).\n",
    "- Label your axes.\n",
    "- 7 lines, one for each configuration. Add a legend.\n",
    "- State how many runs you averaged across and include error bars at each point in both\n",
    "dimensions"
   ]
  },
  {
   "cell_type": "markdown",
   "metadata": {},
   "source": [
    "### There are 7 configurations\n",
    "- without interference &rarr; some-memcached_run.txt\n",
    "- cpu &rarr; ibench-cpu_run.txt\n",
    "- l1d &rarr; ibench-l1d_run.txt\n",
    "- l1i &rarr; ibench-l1i_run.txt\n",
    "- l2 &rarr; ibench-l2_run.txt\n",
    "- llc &rarr; ibench-llc_run.txt\n",
    "- membw &rarr; ibench-membw_run-1.txt"
   ]
  },
  {
   "cell_type": "code",
   "execution_count": 4,
   "metadata": {},
   "outputs": [],
   "source": [
    "categories = [\"without_intereference\", \"cpu\", \"l1d\", \"l1i\", \"l2\", \"llc\", \"membw\"]\n",
    "benchmark_file = {}\n",
    "\n",
    "for category in categories:\n",
    "    benchmark_file[category] = []\n",
    "    if category == \"without_intereference\":\n",
    "        benchmark_file[category].append(f\"some-memcached\")\n",
    "    else:\n",
    "        benchmark_file[category].append(f\"ibench-{category}\")\n"
   ]
  },
  {
   "cell_type": "code",
   "execution_count": 5,
   "metadata": {},
   "outputs": [
    {
     "data": {
      "text/html": [
       "<div>\n",
       "<style scoped>\n",
       "    .dataframe tbody tr th:only-of-type {\n",
       "        vertical-align: middle;\n",
       "    }\n",
       "\n",
       "    .dataframe tbody tr th {\n",
       "        vertical-align: top;\n",
       "    }\n",
       "\n",
       "    .dataframe thead th {\n",
       "        text-align: right;\n",
       "    }\n",
       "</style>\n",
       "<table border=\"1\" class=\"dataframe\">\n",
       "  <thead>\n",
       "    <tr style=\"text-align: right;\">\n",
       "      <th></th>\n",
       "      <th>#type</th>\n",
       "      <th>avg</th>\n",
       "      <th>std</th>\n",
       "      <th>min</th>\n",
       "      <th>p5</th>\n",
       "      <th>p10</th>\n",
       "      <th>p50</th>\n",
       "      <th>p67</th>\n",
       "      <th>p75</th>\n",
       "      <th>p80</th>\n",
       "      <th>p85</th>\n",
       "      <th>p90</th>\n",
       "      <th>p95</th>\n",
       "      <th>p99</th>\n",
       "      <th>p999</th>\n",
       "      <th>p9999</th>\n",
       "      <th>QPS</th>\n",
       "      <th>target</th>\n",
       "      <th>filename</th>\n",
       "    </tr>\n",
       "  </thead>\n",
       "  <tbody>\n",
       "    <tr>\n",
       "      <th>0</th>\n",
       "      <td>read</td>\n",
       "      <td>219.6</td>\n",
       "      <td>85.4</td>\n",
       "      <td>86.8</td>\n",
       "      <td>148.9</td>\n",
       "      <td>160.8</td>\n",
       "      <td>211.9</td>\n",
       "      <td>233.0</td>\n",
       "      <td>245.8</td>\n",
       "      <td>254.5</td>\n",
       "      <td>267.6</td>\n",
       "      <td>283.4</td>\n",
       "      <td>307.6</td>\n",
       "      <td>368.0</td>\n",
       "      <td>949.6</td>\n",
       "      <td>2883.7</td>\n",
       "      <td>4983.6</td>\n",
       "      <td>5000</td>\n",
       "      <td>some-memcached</td>\n",
       "    </tr>\n",
       "    <tr>\n",
       "      <th>1</th>\n",
       "      <td>read</td>\n",
       "      <td>248.4</td>\n",
       "      <td>98.1</td>\n",
       "      <td>86.8</td>\n",
       "      <td>151.1</td>\n",
       "      <td>170.1</td>\n",
       "      <td>240.4</td>\n",
       "      <td>267.9</td>\n",
       "      <td>283.9</td>\n",
       "      <td>295.2</td>\n",
       "      <td>309.8</td>\n",
       "      <td>327.6</td>\n",
       "      <td>357.3</td>\n",
       "      <td>433.6</td>\n",
       "      <td>1519.7</td>\n",
       "      <td>2374.4</td>\n",
       "      <td>10044.8</td>\n",
       "      <td>10000</td>\n",
       "      <td>some-memcached</td>\n",
       "    </tr>\n",
       "    <tr>\n",
       "      <th>2</th>\n",
       "      <td>read</td>\n",
       "      <td>247.5</td>\n",
       "      <td>99.7</td>\n",
       "      <td>74.4</td>\n",
       "      <td>133.9</td>\n",
       "      <td>155.3</td>\n",
       "      <td>243.3</td>\n",
       "      <td>273.8</td>\n",
       "      <td>291.1</td>\n",
       "      <td>303.5</td>\n",
       "      <td>317.5</td>\n",
       "      <td>337.0</td>\n",
       "      <td>367.2</td>\n",
       "      <td>438.2</td>\n",
       "      <td>615.9</td>\n",
       "      <td>3272.2</td>\n",
       "      <td>15070.0</td>\n",
       "      <td>15000</td>\n",
       "      <td>some-memcached</td>\n",
       "    </tr>\n",
       "    <tr>\n",
       "      <th>3</th>\n",
       "      <td>read</td>\n",
       "      <td>262.1</td>\n",
       "      <td>98.3</td>\n",
       "      <td>74.4</td>\n",
       "      <td>129.3</td>\n",
       "      <td>149.3</td>\n",
       "      <td>256.5</td>\n",
       "      <td>293.4</td>\n",
       "      <td>313.7</td>\n",
       "      <td>328.6</td>\n",
       "      <td>345.9</td>\n",
       "      <td>370.3</td>\n",
       "      <td>412.3</td>\n",
       "      <td>514.1</td>\n",
       "      <td>928.3</td>\n",
       "      <td>1911.1</td>\n",
       "      <td>19997.8</td>\n",
       "      <td>20000</td>\n",
       "      <td>some-memcached</td>\n",
       "    </tr>\n",
       "    <tr>\n",
       "      <th>4</th>\n",
       "      <td>read</td>\n",
       "      <td>281.8</td>\n",
       "      <td>117.0</td>\n",
       "      <td>74.4</td>\n",
       "      <td>129.3</td>\n",
       "      <td>149.1</td>\n",
       "      <td>275.0</td>\n",
       "      <td>317.5</td>\n",
       "      <td>340.9</td>\n",
       "      <td>358.3</td>\n",
       "      <td>378.3</td>\n",
       "      <td>407.2</td>\n",
       "      <td>456.5</td>\n",
       "      <td>595.4</td>\n",
       "      <td>1520.6</td>\n",
       "      <td>1993.5</td>\n",
       "      <td>24889.6</td>\n",
       "      <td>25000</td>\n",
       "      <td>some-memcached</td>\n",
       "    </tr>\n",
       "    <tr>\n",
       "      <th>...</th>\n",
       "      <td>...</td>\n",
       "      <td>...</td>\n",
       "      <td>...</td>\n",
       "      <td>...</td>\n",
       "      <td>...</td>\n",
       "      <td>...</td>\n",
       "      <td>...</td>\n",
       "      <td>...</td>\n",
       "      <td>...</td>\n",
       "      <td>...</td>\n",
       "      <td>...</td>\n",
       "      <td>...</td>\n",
       "      <td>...</td>\n",
       "      <td>...</td>\n",
       "      <td>...</td>\n",
       "      <td>...</td>\n",
       "      <td>...</td>\n",
       "      <td>...</td>\n",
       "      <td>...</td>\n",
       "    </tr>\n",
       "    <tr>\n",
       "      <th>331</th>\n",
       "      <td>read</td>\n",
       "      <td>791.7</td>\n",
       "      <td>494.9</td>\n",
       "      <td>68.9</td>\n",
       "      <td>191.8</td>\n",
       "      <td>263.0</td>\n",
       "      <td>819.2</td>\n",
       "      <td>940.7</td>\n",
       "      <td>993.2</td>\n",
       "      <td>1029.9</td>\n",
       "      <td>1080.9</td>\n",
       "      <td>1188.4</td>\n",
       "      <td>1586.7</td>\n",
       "      <td>2012.7</td>\n",
       "      <td>7279.2</td>\n",
       "      <td>8470.6</td>\n",
       "      <td>59892.4</td>\n",
       "      <td>60000</td>\n",
       "      <td>ibench-l1d</td>\n",
       "    </tr>\n",
       "    <tr>\n",
       "      <th>332</th>\n",
       "      <td>read</td>\n",
       "      <td>1119.8</td>\n",
       "      <td>524.2</td>\n",
       "      <td>86.8</td>\n",
       "      <td>791.7</td>\n",
       "      <td>847.3</td>\n",
       "      <td>1026.6</td>\n",
       "      <td>1084.8</td>\n",
       "      <td>1124.1</td>\n",
       "      <td>1158.6</td>\n",
       "      <td>1205.2</td>\n",
       "      <td>1454.2</td>\n",
       "      <td>1946.0</td>\n",
       "      <td>2274.8</td>\n",
       "      <td>7897.7</td>\n",
       "      <td>9657.4</td>\n",
       "      <td>59484.5</td>\n",
       "      <td>65000</td>\n",
       "      <td>ibench-l1d</td>\n",
       "    </tr>\n",
       "    <tr>\n",
       "      <th>333</th>\n",
       "      <td>read</td>\n",
       "      <td>1122.8</td>\n",
       "      <td>517.6</td>\n",
       "      <td>80.4</td>\n",
       "      <td>796.3</td>\n",
       "      <td>849.5</td>\n",
       "      <td>1026.5</td>\n",
       "      <td>1086.5</td>\n",
       "      <td>1130.1</td>\n",
       "      <td>1166.7</td>\n",
       "      <td>1230.7</td>\n",
       "      <td>1466.6</td>\n",
       "      <td>1939.4</td>\n",
       "      <td>2290.4</td>\n",
       "      <td>7873.1</td>\n",
       "      <td>9616.0</td>\n",
       "      <td>59550.8</td>\n",
       "      <td>70000</td>\n",
       "      <td>ibench-l1d</td>\n",
       "    </tr>\n",
       "    <tr>\n",
       "      <th>334</th>\n",
       "      <td>read</td>\n",
       "      <td>1113.8</td>\n",
       "      <td>512.7</td>\n",
       "      <td>148.8</td>\n",
       "      <td>810.0</td>\n",
       "      <td>854.8</td>\n",
       "      <td>1019.1</td>\n",
       "      <td>1075.0</td>\n",
       "      <td>1102.5</td>\n",
       "      <td>1142.2</td>\n",
       "      <td>1182.0</td>\n",
       "      <td>1390.8</td>\n",
       "      <td>1933.7</td>\n",
       "      <td>2221.8</td>\n",
       "      <td>7862.7</td>\n",
       "      <td>11907.6</td>\n",
       "      <td>60116.2</td>\n",
       "      <td>75000</td>\n",
       "      <td>ibench-l1d</td>\n",
       "    </tr>\n",
       "    <tr>\n",
       "      <th>335</th>\n",
       "      <td>read</td>\n",
       "      <td>1090.0</td>\n",
       "      <td>489.2</td>\n",
       "      <td>101.3</td>\n",
       "      <td>773.9</td>\n",
       "      <td>826.0</td>\n",
       "      <td>998.0</td>\n",
       "      <td>1057.0</td>\n",
       "      <td>1086.7</td>\n",
       "      <td>1115.1</td>\n",
       "      <td>1171.7</td>\n",
       "      <td>1483.0</td>\n",
       "      <td>1901.2</td>\n",
       "      <td>2179.8</td>\n",
       "      <td>7772.5</td>\n",
       "      <td>9412.0</td>\n",
       "      <td>61273.8</td>\n",
       "      <td>80000</td>\n",
       "      <td>ibench-l1d</td>\n",
       "    </tr>\n",
       "  </tbody>\n",
       "</table>\n",
       "<p>336 rows × 19 columns</p>\n",
       "</div>"
      ],
      "text/plain": [
       "    #type     avg    std    min     p5    p10     p50     p67     p75     p80  \\\n",
       "0    read   219.6   85.4   86.8  148.9  160.8   211.9   233.0   245.8   254.5   \n",
       "1    read   248.4   98.1   86.8  151.1  170.1   240.4   267.9   283.9   295.2   \n",
       "2    read   247.5   99.7   74.4  133.9  155.3   243.3   273.8   291.1   303.5   \n",
       "3    read   262.1   98.3   74.4  129.3  149.3   256.5   293.4   313.7   328.6   \n",
       "4    read   281.8  117.0   74.4  129.3  149.1   275.0   317.5   340.9   358.3   \n",
       "..    ...     ...    ...    ...    ...    ...     ...     ...     ...     ...   \n",
       "331  read   791.7  494.9   68.9  191.8  263.0   819.2   940.7   993.2  1029.9   \n",
       "332  read  1119.8  524.2   86.8  791.7  847.3  1026.6  1084.8  1124.1  1158.6   \n",
       "333  read  1122.8  517.6   80.4  796.3  849.5  1026.5  1086.5  1130.1  1166.7   \n",
       "334  read  1113.8  512.7  148.8  810.0  854.8  1019.1  1075.0  1102.5  1142.2   \n",
       "335  read  1090.0  489.2  101.3  773.9  826.0   998.0  1057.0  1086.7  1115.1   \n",
       "\n",
       "        p85     p90     p95     p99    p999    p9999      QPS  target  \\\n",
       "0     267.6   283.4   307.6   368.0   949.6   2883.7   4983.6    5000   \n",
       "1     309.8   327.6   357.3   433.6  1519.7   2374.4  10044.8   10000   \n",
       "2     317.5   337.0   367.2   438.2   615.9   3272.2  15070.0   15000   \n",
       "3     345.9   370.3   412.3   514.1   928.3   1911.1  19997.8   20000   \n",
       "4     378.3   407.2   456.5   595.4  1520.6   1993.5  24889.6   25000   \n",
       "..      ...     ...     ...     ...     ...      ...      ...     ...   \n",
       "331  1080.9  1188.4  1586.7  2012.7  7279.2   8470.6  59892.4   60000   \n",
       "332  1205.2  1454.2  1946.0  2274.8  7897.7   9657.4  59484.5   65000   \n",
       "333  1230.7  1466.6  1939.4  2290.4  7873.1   9616.0  59550.8   70000   \n",
       "334  1182.0  1390.8  1933.7  2221.8  7862.7  11907.6  60116.2   75000   \n",
       "335  1171.7  1483.0  1901.2  2179.8  7772.5   9412.0  61273.8   80000   \n",
       "\n",
       "           filename  \n",
       "0    some-memcached  \n",
       "1    some-memcached  \n",
       "2    some-memcached  \n",
       "3    some-memcached  \n",
       "4    some-memcached  \n",
       "..              ...  \n",
       "331      ibench-l1d  \n",
       "332      ibench-l1d  \n",
       "333      ibench-l1d  \n",
       "334      ibench-l1d  \n",
       "335      ibench-l1d  \n",
       "\n",
       "[336 rows x 19 columns]"
      ]
     },
     "execution_count": 5,
     "metadata": {},
     "output_type": "execute_result"
    }
   ],
   "source": [
    "dir_path = \"benchmarks\"\n",
    "file_list = os.listdir(dir_path)\n",
    "\n",
    "df_list = []\n",
    "for filename in file_list:\n",
    "    df = pd.read_csv(f\"{dir_path}/{filename}\", nrows=16, header=1, sep=\"\\\\s+\")\n",
    "    df[\"filename\"] = filename.split(\"_\")[0]\n",
    "    df_list.append(df)\n",
    "\n",
    "df = pd.concat(df_list, ignore_index=True)\n",
    "df"
   ]
  },
  {
   "cell_type": "code",
   "execution_count": 6,
   "metadata": {},
   "outputs": [
    {
     "name": "stdout",
     "output_type": "stream",
     "text": [
      "     filename  target     p95_mean     p95_std      QPS_mean     QPS_std\n",
      "0  ibench-cpu    5000   921.366667  283.519123   4992.733333   16.531586\n",
      "1  ibench-cpu   10000  1178.366667  153.747271  10004.066667   88.635960\n",
      "2  ibench-cpu   15000  1318.766667   29.139378  14968.333333   91.662497\n",
      "3  ibench-cpu   20000  1341.566667    8.727161  19997.200000   60.004000\n",
      "4  ibench-cpu   25000  1319.933333   72.992899  25065.166667  165.477018\n"
     ]
    }
   ],
   "source": [
    "agg_df = df.groupby(['filename', 'target']).agg(\n",
    "    p95_mean=('p95', 'mean'),\n",
    "    p95_std=('p95', 'std'),\n",
    "    QPS_mean=('QPS', 'mean'),\n",
    "    QPS_std=('QPS', 'std'),\n",
    ").reset_index()\n",
    "\n",
    "print(agg_df.head())"
   ]
  },
  {
   "cell_type": "code",
   "execution_count": 18,
   "metadata": {},
   "outputs": [
    {
     "data": {
      "application/vnd.plotly.v1+json": {
       "config": {
        "plotlyServerURL": "https://plot.ly"
       },
       "data": [
        {
         "error_x": {
          "array": {
           "bdata": "CMb0AxaIMEAokd+PsyhWQB/OSllm6lZAZ0dQEYMATkD7w0i6Q69kQIK92tsuvVVAxTLzg3VQUkAgTMnQyuJxQHuBvL/cEG9ApixHoPyIeUDI/xxpx1JwQP/3BcImr4ZAT5qbvUA5dECeWZZLtHiEQOGVLqarv4FAPE/vD4X2gkA=",
           "dtype": "f8"
          },
          "color": "gray",
          "thickness": 1.5,
          "type": "data",
          "width": 4
         },
         "error_y": {
          "array": {
           "bdata": "6bSyZC0l0j+91lmW/a3DP9PBKYm21p0/0KNDrYvfgT/pT+Wiqa+yP66e4m9ruIU/ber0SCoCmj9B4izorBXVPxiZXt9NnX8/g4oz1lralj9BisFAvuyBP1LXtUCtXKM/qTUEhGdflT+FDSWLj1isP0Ff/ORYW6E/UPUzIX7LqT8=",
           "dtype": "f8"
          },
          "color": "gray",
          "thickness": 1.5,
          "type": "data",
          "width": 4
         },
         "hovertemplate": "Achieved QPS: %{x}<br>95th Latency: %{y} ms<br>Target QPS: %{text}<extra></extra>",
         "line": {
          "width": 2
         },
         "marker": {
          "size": 8
         },
         "mode": "lines+markers",
         "name": "ibench-cpu",
         "text": {
          "bdata": "AAAAAACIs0AAAAAAAIjDQAAAAAAATM1AAAAAAACI00AAAAAAAGrYQAAAAAAATN1AAAAAAAAX4UAAAAAAAIjjQAAAAAAA+eVAAAAAAABq6EAAAAAAANvqQAAAAAAATO1AAAAAAAC970AAAAAAABfxQAAAAACAT/JAAAAAAACI80A=",
          "dtype": "f8"
         },
         "type": "scatter",
         "x": {
          "bdata": "vLu7u7uAs0CIiIiICIrDQKuqqqoqPM1AzczMzEyH00CrqqqqSnrYQKuqqqrKPd1AiYiIiMgU4UB3d3d3Ny3jQN3d3d2tvOJA3d3d3Q2h4kB4d3d3N5/iQJmZmZl5sOJAZ2ZmZkbA4kC7u7u7+6jiQImIiIgIpOJAMzMzMwOf4kA=",
          "dtype": "f8"
         },
         "y": {
          "bdata": "2Kae8tV77T9VeoABl9ryP1c2hhOrGfU/Bsvrmw539T8pEjlqch71P9Bm1edqK/Y/HoK9nOx59z+YbhKDwMoIQJ3KfBoKsgtA76Fq4Z+/C0CaLUZKoK4LQGMWtKNLkgtAcoqO5PKfC0BseHqlLMMLQCyvbzrcoQtAdk8eFmrNC0A=",
          "dtype": "f8"
         }
        },
        {
         "error_x": {
          "array": {
           "bdata": "7x0353o8K0AHw5nvIrk2QGNZs4n1mjZAB+vLH0gMTkC+FaXCQEwrQFNzV3eNm1pA4U6+lrB2RUDirYEWBGgqQE1hOFCWAVFAzK7OvELtXUBD3Tllhak+QP6RqwWjr2RA8pYnsVvTaEDKHS/x3X92QAFUvRiU9XBAGbVdAzsIhkA=",
           "dtype": "f8"
          },
          "color": "gray",
          "thickness": 1.5,
          "type": "data",
          "width": 4
         },
         "error_y": {
          "array": {
           "bdata": "aEIrFLEgcD+9NGKm09lsP9W672jVhFE/YsKGTOUFdT+NpIcg2yRvP2ZrKcb4+X0/kYk46aeIcz/uJun64jV2P33DHlkEJYA/duEe4lP/ej87HCReqW6TPwJiec1oJsU/YK0/DkZFiD/FT0pYJKKEP0JopZFzgJA/X30bDO4YlT8=",
           "dtype": "f8"
          },
          "color": "gray",
          "thickness": 1.5,
          "type": "data",
          "width": 4
         },
         "hovertemplate": "Achieved QPS: %{x}<br>95th Latency: %{y} ms<br>Target QPS: %{text}<extra></extra>",
         "line": {
          "width": 2
         },
         "marker": {
          "size": 8
         },
         "mode": "lines+markers",
         "name": "ibench-l1d",
         "text": {
          "bdata": "AAAAAACIs0AAAAAAAIjDQAAAAAAATM1AAAAAAACI00AAAAAAAGrYQAAAAAAATN1AAAAAAAAX4UAAAAAAAIjjQAAAAAAA+eVAAAAAAABq6EAAAAAAANvqQAAAAAAATO1AAAAAAAC970AAAAAAABfxQAAAAACAT/JAAAAAAACI80A=",
          "dtype": "f8"
         },
         "type": "scatter",
         "x": {
          "bdata": "RERERERws0Dd3d3dHZPDQJuZmZkZOs1AERERETGL00Dv7u7url7YQFVVVVUVS91AAAAAABAa4UBERERE1InjQCMiIiJi/OVAEREREdFr6EDNzMzMvN3qQCMiIiLCQu1ARERERMQg7UAjIiIiwkftQBERERFxbe1AAAAAADCH7UA=",
          "dtype": "f8"
         },
         "y": {
          "bdata": "tcukc2u/0j+OUEZvy1rVP+KibQ9VC9c/P+sHYsYB2T9z1OQ8dirbP8pUwaikTtw/4jPsCpB73T+bC0lTKs7eP41yQ2ZBO+A/RiJHTc5j4T9ZF7fRAN7iP/Jm+hIXbfw/GAEoWWEN/z8Xj3if0Nj+P/P3eA5S3f4/yuU/pN++/j8=",
          "dtype": "f8"
         }
        },
        {
         "error_x": {
          "array": {
           "bdata": "IiSwCWWNA0AxGOKKXEJRQBOiUcN6j0FAdSRjejWQQ0Ad4yP8biBLQAdPqETfDF9AvIqHsRX2WkDRgQKz+BKAQPDJ40GYbX5ApIzWQ50xekCgODmKgmx4QLexs3gaJXFAeRJYwMv2fECuEb60jLaBQBEOeyPaKXxAOUQTzp3Uj0A=",
           "dtype": "f8"
          },
          "color": "gray",
          "thickness": 1.5,
          "type": "data",
          "width": 4
         },
         "error_y": {
          "array": {
           "bdata": "EiwVcd5Nuj996iG910ecPyZTy/4lQGI/ffjY1ZFOgT/01yUp8sJXP8lJcDaTW5g/OVosGkxOvD9XJJuqHZKpP4/skGNhva0/EVoSK6aorD/RUX2twaikP25AInuVopg/rVKoU5DSmD9pRnIEzKWtP/CEovY/drI/wu6e+4VNtz8=",
           "dtype": "f8"
          },
          "color": "gray",
          "thickness": 1.5,
          "type": "data",
          "width": 4
         },
         "hovertemplate": "Achieved QPS: %{x}<br>95th Latency: %{y} ms<br>Target QPS: %{text}<extra></extra>",
         "line": {
          "width": 2
         },
         "marker": {
          "size": 8
         },
         "mode": "lines+markers",
         "name": "ibench-l1i",
         "text": {
          "bdata": "AAAAAACIs0AAAAAAAIjDQAAAAAAATM1AAAAAAACI00AAAAAAAGrYQAAAAAAATN1AAAAAAAAX4UAAAAAAAIjjQAAAAAAA+eVAAAAAAABq6EAAAAAAANvqQAAAAAAATO1AAAAAAAC970AAAAAAABfxQAAAAACAT/JAAAAAAACI80A=",
          "dtype": "f8"
         },
         "type": "scatter",
         "x": {
          "bdata": "7+7u7u6Is0BVVVVV1ZrDQJmZmZkZO81AVVVVVRV500BnZmZmBmXYQM3MzMyMUd1AzczMzMwb4UDv7u7ublLiQHd3d3cHP+JAmZmZmXlQ4kDNzMzMHETiQEREREREHOJAeHd3dxdh4kCrqqqqmhfiQAAAAAAgHeJAvLu7u3sr4kA=",
          "dtype": "f8"
         },
         "y": {
          "bdata": "oUKIPjIw8z+jbQ9VC//0Pz58hl0BcvU/CvzOHH+P9T9Zq2OCB/P1Pwbt6JKEV/Y/NagQoo8M+T89VC3888cMQBoKsnjE+wxA3EYDeAukDEDOz/qBmPEMQAFyr7mQtAxAfauIrbO0DEB5fdPhDsEMQFOWIY518QxAmi1GSqCuDEA=",
          "dtype": "f8"
         }
        },
        {
         "error_x": {
          "array": {
           "bdata": "1iziBIhSSUCfBPXhX9g1QLWhobJoiT5AXPXBHUipQkAXcc2OgflaQILLbFlYiFtAiuuZALH0YkDcZE34OrlGQCb9Px/gyFRApN26ViqtRUCFpHXx5upqQH4idzJcrGZAfEXlv55igUAwjSlO9ueFQBU9qYF1nXJAGhGWZCx4ekA=",
           "dtype": "f8"
          },
          "color": "gray",
          "thickness": 1.5,
          "type": "data",
          "width": 4
         },
         "error_y": {
          "array": {
           "bdata": "54LtvNa7dD8d5LyCtvN4PyPDXv5VL3g/WS5+d1xIcT+tLQMGfURgPwfFXBIZ0GU/0+H77U1IZD8XnupJU3qCPyHE7UDXoHQ/JzBH+Gjsij9ehzLSHhFFP216HQR0XMg/DPqs7U5kkT+R/dGA2fSTP6P26qttCHw/BzjroSnbhT8=",
           "dtype": "f8"
          },
          "color": "gray",
          "thickness": 1.5,
          "type": "data",
          "width": 4
         },
         "hovertemplate": "Achieved QPS: %{x}<br>95th Latency: %{y} ms<br>Target QPS: %{text}<extra></extra>",
         "line": {
          "width": 2
         },
         "marker": {
          "size": 8
         },
         "mode": "lines+markers",
         "name": "ibench-l2",
         "text": {
          "bdata": "AAAAAACIs0AAAAAAAIjDQAAAAAAATM1AAAAAAACI00AAAAAAAGrYQAAAAAAATN1AAAAAAAAX4UAAAAAAAIjjQAAAAAAA+eVAAAAAAABq6EAAAAAAANvqQAAAAAAATO1AAAAAAAC970AAAAAAABfxQAAAAACAT/JAAAAAAACI80A=",
          "dtype": "f8"
         },
         "type": "scatter",
         "x": {
          "bdata": "d3d3d3dqs0Dv7u7u7oTDQBERERERUM1AAAAAAOB900B4d3d3d2XYQIiIiIhoQ91AiIiIiMgb4UAAAAAAIIfjQAAAAADA9eVAZ2ZmZtZs6EBERERERNPqQN3d3d3dJe1AiIiIiGjH7EBVVVVVpfjsQO/u7u4O9OxAZ2ZmZlYA7UA=",
          "dtype": "f8"
         },
         "y": {
          "bdata": "l7U6Jngw0z9dS8gHPZvVP3HRtoeqhdc/h4IsHvE+2T8FXGqXSefaPwfOGVHaG9w/3LWEfNCz3T9whDJ6W9beP0OIPjIwBeA/qqd89d4F4T8lmi1GSqDiP4pmi5ESqPo/UENBFo94/z/KVMGopE7/P+TyH9JvX/8/8tJNYhBY/z8=",
          "dtype": "f8"
         }
        },
        {
         "error_x": {
          "array": {
           "bdata": "fAT6N2xtNED2I2fmPMhFQEzeLxyVuUBAxxM9MrtEU0AbkwNauPJRQF7Bpd0uoFFAkYRKCSj1JkCypgVp0hdUQN0cKnUqxl9Aj0WC0CBYkEB3foBVLZqeQD/GiWzyKKRAtRHeE4gXjECtpFKYNTeSQHztjpVC/p1AhD98VUUJhUA=",
           "dtype": "f8"
          },
          "color": "gray",
          "thickness": 1.5,
          "type": "data",
          "width": 4
         },
         "error_y": {
          "array": {
           "bdata": "uS48lkYzYz/92VCwkjp4P68P4YhO9po/BKYpuSfdlz9/fJcu+qeeP5PHSaVG7tI/lOqLBLyYyz94Bm5gGbnKP87Pp+Fgzb0/gPmwrvYetT99BwdqB/S6P4n709p1g8E/R/Pow3Szqj/+1/HWuCSxPxgA7hE24bw/mY6mqqqoqz8=",
           "dtype": "f8"
          },
          "color": "gray",
          "thickness": 1.5,
          "type": "data",
          "width": 4
         },
         "hovertemplate": "Achieved QPS: %{x}<br>95th Latency: %{y} ms<br>Target QPS: %{text}<extra></extra>",
         "line": {
          "width": 2
         },
         "marker": {
          "size": 8
         },
         "mode": "lines+markers",
         "name": "ibench-llc",
         "text": {
          "bdata": "AAAAAACIs0AAAAAAAIjDQAAAAAAATM1AAAAAAACI00AAAAAAAGrYQAAAAAAATN1AAAAAAAAX4UAAAAAAAIjjQAAAAAAA+eVAAAAAAABq6EAAAAAAANvqQAAAAAAATO1AAAAAAAC970AAAAAAABfxQAAAAACAT/JAAAAAAACI80A=",
          "dtype": "f8"
         },
         "type": "scatter",
         "x": {
          "bdata": "MzMzMzNds0CrqqqqKnvDQCMiIiIiQc1AMzMzMxN700CrqqqqClrYQHh3d3e3Qt1AvLu7uwsT4UCIiIiIiIjjQAAAAABg8+VAmZmZmblr5kARERER4YbmQHh3d3fH6OZAZ2ZmZqbT5kBEREREJPDmQM3MzMxMo+VAEREREYF35kA=",
          "dtype": "f8"
         },
         "y": {
          "bdata": "Wq6RN9OX2D9yrIvbaADfPw1xrIvbaOI/0PqBmHFA5D9sdUzwYJ7mP0FaiWaLkfA/bVZ9rrZi8D+l374OnDPzP7NZ9bnaivU/O0uj3JBZBECcxCCwcmgEQE06t/YrCgRAV6LZYqQEBEA1OY+dyvwDQJBWotliJAVA4XoUrkdhBEA=",
          "dtype": "f8"
         }
        },
        {
         "error_x": {
          "array": {
           "bdata": "fP/NnzH4G0CjLCKOSh0xQHZ7nE6G1D9Atn8qlN2dT0AQUEcTSllXQMLD6oRgFkhAhoGsutN/YEBlv4x6/x1ZQOaeN105MFhAL08u0s2mVUAMg5xHiKtlQGzeRXdQ9mBAMjKpG7vKI0BAed1y/BSGQAIJUjBiYZFAxAHP4o7vo0A=",
           "dtype": "f8"
          },
          "color": "gray",
          "thickness": 1.5,
          "type": "data",
          "width": 4
         },
         "error_y": {
          "array": {
           "bdata": "g+6byVkvgj/8Tg6fON5dP4H9Q6EFd4E/wnd72GchhT9d7+BX6yeKPwDAkg6BZno/9BVXjDEsfj9VbZBQzLNGP5L/+XyDoGs/MYIDL1HPrD9ybFosZT+bP89odIxkF5o/7iVYRNBCoj+vgVKKid3ZPzstvoDwVaI/ho/3mJkZrz8=",
           "dtype": "f8"
          },
          "color": "gray",
          "thickness": 1.5,
          "type": "data",
          "width": 4
         },
         "hovertemplate": "Achieved QPS: %{x}<br>95th Latency: %{y} ms<br>Target QPS: %{text}<extra></extra>",
         "line": {
          "width": 2
         },
         "marker": {
          "size": 8
         },
         "mode": "lines+markers",
         "name": "ibench-membw",
         "text": {
          "bdata": "AAAAAACIs0AAAAAAAIjDQAAAAAAATM1AAAAAAACI00AAAAAAAGrYQAAAAAAATN1AAAAAAAAX4UAAAAAAAIjjQAAAAAAA+eVAAAAAAABq6EAAAAAAANvqQAAAAAAATO1AAAAAAAC970AAAAAAABfxQAAAAACAT/JAAAAAAACI80A=",
          "dtype": "f8"
         },
         "type": "scatter",
         "x": {
          "bdata": "IiIiIiKDs0CJiIiISJ/DQGdmZmZmPs1AEREREVGG00B4d3d3t1XYQN3d3d0dVt1AiYiIiAgT4UBERERE1IDjQAAAAADA/uVAVVVVVZV06ECIiIiIGNDqQERERER0Ve1AzczMzBy070CZmZmZGfvwQHh3d3fXHPFAq6qqqvpU8UA=",
          "dtype": "f8"
         },
         "y": {
          "bdata": "WBSJHDU50z8YS36x5BfXPzUUZPGI99k/HmDApXaZ3D8DCYofY+7eP9ElCa9KD+A/X1EkctTk4D/W52or9pfhP4QyelvW6uI/SzRbjJRA5T8g9GxWfa7mP2VBO7ok4ek/jr/Hc5Dq7D+epVFuyCz1P5kn6t8IZfo/T2hswtD9+T8=",
          "dtype": "f8"
         }
        },
        {
         "error_x": {
          "array": {
           "bdata": "zO9UmZ7HMUBGUTxAKrg/QEvU0/2WW1ZAIpI0sKF8QkBvRnUYH7dRQDkOlcmDQx5A7hRKJkK9WED/R4EVH/dWQFtCKF7AQmpA2yAOb/DfSUCCyY8cizdgQLKezo3KX0dAdzxwfloOS0At8o2Hn0mRQHOzCNVgwX1AteGjJSg7l0A=",
           "dtype": "f8"
          },
          "color": "gray",
          "thickness": 1.5,
          "type": "data",
          "width": 4
         },
         "error_y": {
          "array": {
           "bdata": "BgW9B2zPcD+R6758AamQP0f53m+xLow/NW6jAbwFgj8LwVB97/2KP6OwS3lEHX8/Ao+REBIzbj+d/j72nqpzP6PS+Mz98Xg/Wi0dU8TsnT9ucVhbxszCPwz0D1FzzJ0/j1+xg2LTqj9s98YlOJeSPzLx2ILnD5E/0p9S8PVCnT8=",
           "dtype": "f8"
          },
          "color": "gray",
          "thickness": 1.5,
          "type": "data",
          "width": 4
         },
         "hovertemplate": "Achieved QPS: %{x}<br>95th Latency: %{y} ms<br>Target QPS: %{text}<extra></extra>",
         "line": {
          "width": 2
         },
         "marker": {
          "size": 8
         },
         "mode": "lines+markers",
         "name": "some-memcached",
         "text": {
          "bdata": "AAAAAACIs0AAAAAAAIjDQAAAAAAATM1AAAAAAACI00AAAAAAAGrYQAAAAAAATN1AAAAAAAAX4UAAAAAAAIjjQAAAAAAA+eVAAAAAAABq6EAAAAAAANvqQAAAAAAATO1AAAAAAAC970AAAAAAABfxQAAAAACAT/JAAAAAAACI80A=",
          "dtype": "f8"
         },
         "type": "scatter",
         "x": {
          "bdata": "AAAAAABps0AAAAAAgIzDQJmZmZmZTc1AEREREZGN00AzMzMzM2LYQCMiIiICP91AMzMzM9Mi4UDd3d3dPZPjQM3MzMzM9OVAeHd3d7dj6EAzMzMzk8vqQM3MzMycQu1AvLu7u1un70BFREREJOPvQO/u7u7O5O9ARERERJTc70A=",
          "dtype": "f8"
         },
         "y": {
          "bdata": "Ay61y6Rz0z8FD+aJ+jfWP1zZGE6sZtg/bef7qfHS2T/3K4pEjprcP1z7FUUiR90//WX35GGh3j/cslbHBA/gP2PMXUvIB+E/FBqbMHT/4T9R/Bhz1xLoP24PVQv//PM/Wag1zTtO9z/vf23qKV/7P5zEILByaPs/3ipi6yyN+z8=",
          "dtype": "f8"
         }
        }
       ],
       "layout": {
        "annotations": [
         {
          "align": "right",
          "font": {
           "size": 12
          },
          "showarrow": false,
          "text": "Averaged across 3 runs",
          "x": 0.99,
          "xref": "paper",
          "y": 0.01,
          "yref": "paper"
         }
        ],
        "legend": {
         "bgcolor": "rgba(255,255,255,0.7)",
         "bordercolor": "black",
         "borderwidth": 1,
         "font": {
          "size": 12
         },
         "x": 0.99,
         "xanchor": "right",
         "y": 0.99,
         "yanchor": "top"
        },
        "template": {
         "data": {
          "bar": [
           {
            "error_x": {
             "color": "#2a3f5f"
            },
            "error_y": {
             "color": "#2a3f5f"
            },
            "marker": {
             "line": {
              "color": "#E5ECF6",
              "width": 0.5
             },
             "pattern": {
              "fillmode": "overlay",
              "size": 10,
              "solidity": 0.2
             }
            },
            "type": "bar"
           }
          ],
          "barpolar": [
           {
            "marker": {
             "line": {
              "color": "#E5ECF6",
              "width": 0.5
             },
             "pattern": {
              "fillmode": "overlay",
              "size": 10,
              "solidity": 0.2
             }
            },
            "type": "barpolar"
           }
          ],
          "carpet": [
           {
            "aaxis": {
             "endlinecolor": "#2a3f5f",
             "gridcolor": "white",
             "linecolor": "white",
             "minorgridcolor": "white",
             "startlinecolor": "#2a3f5f"
            },
            "baxis": {
             "endlinecolor": "#2a3f5f",
             "gridcolor": "white",
             "linecolor": "white",
             "minorgridcolor": "white",
             "startlinecolor": "#2a3f5f"
            },
            "type": "carpet"
           }
          ],
          "choropleth": [
           {
            "colorbar": {
             "outlinewidth": 0,
             "ticks": ""
            },
            "type": "choropleth"
           }
          ],
          "contour": [
           {
            "colorbar": {
             "outlinewidth": 0,
             "ticks": ""
            },
            "colorscale": [
             [
              0,
              "#0d0887"
             ],
             [
              0.1111111111111111,
              "#46039f"
             ],
             [
              0.2222222222222222,
              "#7201a8"
             ],
             [
              0.3333333333333333,
              "#9c179e"
             ],
             [
              0.4444444444444444,
              "#bd3786"
             ],
             [
              0.5555555555555556,
              "#d8576b"
             ],
             [
              0.6666666666666666,
              "#ed7953"
             ],
             [
              0.7777777777777778,
              "#fb9f3a"
             ],
             [
              0.8888888888888888,
              "#fdca26"
             ],
             [
              1,
              "#f0f921"
             ]
            ],
            "type": "contour"
           }
          ],
          "contourcarpet": [
           {
            "colorbar": {
             "outlinewidth": 0,
             "ticks": ""
            },
            "type": "contourcarpet"
           }
          ],
          "heatmap": [
           {
            "colorbar": {
             "outlinewidth": 0,
             "ticks": ""
            },
            "colorscale": [
             [
              0,
              "#0d0887"
             ],
             [
              0.1111111111111111,
              "#46039f"
             ],
             [
              0.2222222222222222,
              "#7201a8"
             ],
             [
              0.3333333333333333,
              "#9c179e"
             ],
             [
              0.4444444444444444,
              "#bd3786"
             ],
             [
              0.5555555555555556,
              "#d8576b"
             ],
             [
              0.6666666666666666,
              "#ed7953"
             ],
             [
              0.7777777777777778,
              "#fb9f3a"
             ],
             [
              0.8888888888888888,
              "#fdca26"
             ],
             [
              1,
              "#f0f921"
             ]
            ],
            "type": "heatmap"
           }
          ],
          "histogram": [
           {
            "marker": {
             "pattern": {
              "fillmode": "overlay",
              "size": 10,
              "solidity": 0.2
             }
            },
            "type": "histogram"
           }
          ],
          "histogram2d": [
           {
            "colorbar": {
             "outlinewidth": 0,
             "ticks": ""
            },
            "colorscale": [
             [
              0,
              "#0d0887"
             ],
             [
              0.1111111111111111,
              "#46039f"
             ],
             [
              0.2222222222222222,
              "#7201a8"
             ],
             [
              0.3333333333333333,
              "#9c179e"
             ],
             [
              0.4444444444444444,
              "#bd3786"
             ],
             [
              0.5555555555555556,
              "#d8576b"
             ],
             [
              0.6666666666666666,
              "#ed7953"
             ],
             [
              0.7777777777777778,
              "#fb9f3a"
             ],
             [
              0.8888888888888888,
              "#fdca26"
             ],
             [
              1,
              "#f0f921"
             ]
            ],
            "type": "histogram2d"
           }
          ],
          "histogram2dcontour": [
           {
            "colorbar": {
             "outlinewidth": 0,
             "ticks": ""
            },
            "colorscale": [
             [
              0,
              "#0d0887"
             ],
             [
              0.1111111111111111,
              "#46039f"
             ],
             [
              0.2222222222222222,
              "#7201a8"
             ],
             [
              0.3333333333333333,
              "#9c179e"
             ],
             [
              0.4444444444444444,
              "#bd3786"
             ],
             [
              0.5555555555555556,
              "#d8576b"
             ],
             [
              0.6666666666666666,
              "#ed7953"
             ],
             [
              0.7777777777777778,
              "#fb9f3a"
             ],
             [
              0.8888888888888888,
              "#fdca26"
             ],
             [
              1,
              "#f0f921"
             ]
            ],
            "type": "histogram2dcontour"
           }
          ],
          "mesh3d": [
           {
            "colorbar": {
             "outlinewidth": 0,
             "ticks": ""
            },
            "type": "mesh3d"
           }
          ],
          "parcoords": [
           {
            "line": {
             "colorbar": {
              "outlinewidth": 0,
              "ticks": ""
             }
            },
            "type": "parcoords"
           }
          ],
          "pie": [
           {
            "automargin": true,
            "type": "pie"
           }
          ],
          "scatter": [
           {
            "fillpattern": {
             "fillmode": "overlay",
             "size": 10,
             "solidity": 0.2
            },
            "type": "scatter"
           }
          ],
          "scatter3d": [
           {
            "line": {
             "colorbar": {
              "outlinewidth": 0,
              "ticks": ""
             }
            },
            "marker": {
             "colorbar": {
              "outlinewidth": 0,
              "ticks": ""
             }
            },
            "type": "scatter3d"
           }
          ],
          "scattercarpet": [
           {
            "marker": {
             "colorbar": {
              "outlinewidth": 0,
              "ticks": ""
             }
            },
            "type": "scattercarpet"
           }
          ],
          "scattergeo": [
           {
            "marker": {
             "colorbar": {
              "outlinewidth": 0,
              "ticks": ""
             }
            },
            "type": "scattergeo"
           }
          ],
          "scattergl": [
           {
            "marker": {
             "colorbar": {
              "outlinewidth": 0,
              "ticks": ""
             }
            },
            "type": "scattergl"
           }
          ],
          "scattermap": [
           {
            "marker": {
             "colorbar": {
              "outlinewidth": 0,
              "ticks": ""
             }
            },
            "type": "scattermap"
           }
          ],
          "scattermapbox": [
           {
            "marker": {
             "colorbar": {
              "outlinewidth": 0,
              "ticks": ""
             }
            },
            "type": "scattermapbox"
           }
          ],
          "scatterpolar": [
           {
            "marker": {
             "colorbar": {
              "outlinewidth": 0,
              "ticks": ""
             }
            },
            "type": "scatterpolar"
           }
          ],
          "scatterpolargl": [
           {
            "marker": {
             "colorbar": {
              "outlinewidth": 0,
              "ticks": ""
             }
            },
            "type": "scatterpolargl"
           }
          ],
          "scatterternary": [
           {
            "marker": {
             "colorbar": {
              "outlinewidth": 0,
              "ticks": ""
             }
            },
            "type": "scatterternary"
           }
          ],
          "surface": [
           {
            "colorbar": {
             "outlinewidth": 0,
             "ticks": ""
            },
            "colorscale": [
             [
              0,
              "#0d0887"
             ],
             [
              0.1111111111111111,
              "#46039f"
             ],
             [
              0.2222222222222222,
              "#7201a8"
             ],
             [
              0.3333333333333333,
              "#9c179e"
             ],
             [
              0.4444444444444444,
              "#bd3786"
             ],
             [
              0.5555555555555556,
              "#d8576b"
             ],
             [
              0.6666666666666666,
              "#ed7953"
             ],
             [
              0.7777777777777778,
              "#fb9f3a"
             ],
             [
              0.8888888888888888,
              "#fdca26"
             ],
             [
              1,
              "#f0f921"
             ]
            ],
            "type": "surface"
           }
          ],
          "table": [
           {
            "cells": {
             "fill": {
              "color": "#EBF0F8"
             },
             "line": {
              "color": "white"
             }
            },
            "header": {
             "fill": {
              "color": "#C8D4E3"
             },
             "line": {
              "color": "white"
             }
            },
            "type": "table"
           }
          ]
         },
         "layout": {
          "annotationdefaults": {
           "arrowcolor": "#2a3f5f",
           "arrowhead": 0,
           "arrowwidth": 1
          },
          "autotypenumbers": "strict",
          "coloraxis": {
           "colorbar": {
            "outlinewidth": 0,
            "ticks": ""
           }
          },
          "colorscale": {
           "diverging": [
            [
             0,
             "#8e0152"
            ],
            [
             0.1,
             "#c51b7d"
            ],
            [
             0.2,
             "#de77ae"
            ],
            [
             0.3,
             "#f1b6da"
            ],
            [
             0.4,
             "#fde0ef"
            ],
            [
             0.5,
             "#f7f7f7"
            ],
            [
             0.6,
             "#e6f5d0"
            ],
            [
             0.7,
             "#b8e186"
            ],
            [
             0.8,
             "#7fbc41"
            ],
            [
             0.9,
             "#4d9221"
            ],
            [
             1,
             "#276419"
            ]
           ],
           "sequential": [
            [
             0,
             "#0d0887"
            ],
            [
             0.1111111111111111,
             "#46039f"
            ],
            [
             0.2222222222222222,
             "#7201a8"
            ],
            [
             0.3333333333333333,
             "#9c179e"
            ],
            [
             0.4444444444444444,
             "#bd3786"
            ],
            [
             0.5555555555555556,
             "#d8576b"
            ],
            [
             0.6666666666666666,
             "#ed7953"
            ],
            [
             0.7777777777777778,
             "#fb9f3a"
            ],
            [
             0.8888888888888888,
             "#fdca26"
            ],
            [
             1,
             "#f0f921"
            ]
           ],
           "sequentialminus": [
            [
             0,
             "#0d0887"
            ],
            [
             0.1111111111111111,
             "#46039f"
            ],
            [
             0.2222222222222222,
             "#7201a8"
            ],
            [
             0.3333333333333333,
             "#9c179e"
            ],
            [
             0.4444444444444444,
             "#bd3786"
            ],
            [
             0.5555555555555556,
             "#d8576b"
            ],
            [
             0.6666666666666666,
             "#ed7953"
            ],
            [
             0.7777777777777778,
             "#fb9f3a"
            ],
            [
             0.8888888888888888,
             "#fdca26"
            ],
            [
             1,
             "#f0f921"
            ]
           ]
          },
          "colorway": [
           "#636efa",
           "#EF553B",
           "#00cc96",
           "#ab63fa",
           "#FFA15A",
           "#19d3f3",
           "#FF6692",
           "#B6E880",
           "#FF97FF",
           "#FECB52"
          ],
          "font": {
           "color": "#2a3f5f"
          },
          "geo": {
           "bgcolor": "white",
           "lakecolor": "white",
           "landcolor": "#E5ECF6",
           "showlakes": true,
           "showland": true,
           "subunitcolor": "white"
          },
          "hoverlabel": {
           "align": "left"
          },
          "hovermode": "closest",
          "mapbox": {
           "style": "light"
          },
          "paper_bgcolor": "white",
          "plot_bgcolor": "#E5ECF6",
          "polar": {
           "angularaxis": {
            "gridcolor": "white",
            "linecolor": "white",
            "ticks": ""
           },
           "bgcolor": "#E5ECF6",
           "radialaxis": {
            "gridcolor": "white",
            "linecolor": "white",
            "ticks": ""
           }
          },
          "scene": {
           "xaxis": {
            "backgroundcolor": "#E5ECF6",
            "gridcolor": "white",
            "gridwidth": 2,
            "linecolor": "white",
            "showbackground": true,
            "ticks": "",
            "zerolinecolor": "white"
           },
           "yaxis": {
            "backgroundcolor": "#E5ECF6",
            "gridcolor": "white",
            "gridwidth": 2,
            "linecolor": "white",
            "showbackground": true,
            "ticks": "",
            "zerolinecolor": "white"
           },
           "zaxis": {
            "backgroundcolor": "#E5ECF6",
            "gridcolor": "white",
            "gridwidth": 2,
            "linecolor": "white",
            "showbackground": true,
            "ticks": "",
            "zerolinecolor": "white"
           }
          },
          "shapedefaults": {
           "line": {
            "color": "#2a3f5f"
           }
          },
          "ternary": {
           "aaxis": {
            "gridcolor": "white",
            "linecolor": "white",
            "ticks": ""
           },
           "baxis": {
            "gridcolor": "white",
            "linecolor": "white",
            "ticks": ""
           },
           "bgcolor": "#E5ECF6",
           "caxis": {
            "gridcolor": "white",
            "linecolor": "white",
            "ticks": ""
           }
          },
          "title": {
           "x": 0.05
          },
          "xaxis": {
           "automargin": true,
           "gridcolor": "white",
           "linecolor": "white",
           "ticks": "",
           "title": {
            "standoff": 15
           },
           "zerolinecolor": "white",
           "zerolinewidth": 2
          },
          "yaxis": {
           "automargin": true,
           "gridcolor": "white",
           "linecolor": "white",
           "ticks": "",
           "title": {
            "standoff": 15
           },
           "zerolinecolor": "white",
           "zerolinewidth": 2
          }
         }
        },
        "title": {
         "text": "Part 1: 95 Percentile Latency vs Achieved QPS"
        },
        "xaxis": {
         "range": [
          0,
          80000
         ],
         "title": {
          "text": "QPS (actual achieved rather than target)"
         }
        },
        "yaxis": {
         "range": [
          0,
          6
         ],
         "title": {
          "text": "95 Percentile Latency (ms)"
         }
        }
       }
      }
     },
     "metadata": {},
     "output_type": "display_data"
    }
   ],
   "source": [
    "fig = go.Figure()\n",
    "\n",
    "for fname in agg_df[\"filename\"].unique():\n",
    "    sub_df = agg_df[agg_df[\"filename\"] == fname]\n",
    "\n",
    "    fig.add_trace(go.Scatter(\n",
    "        x = sub_df[\"QPS_mean\"],\n",
    "        y = sub_df[\"p95_mean\"]/1000,\n",
    "        mode = \"lines+markers\",\n",
    "        name = fname,\n",
    "        marker = dict(size = 8),\n",
    "        line=dict(width=2),\n",
    "        error_x=dict(\n",
    "            type=\"data\",\n",
    "            array=sub_df[\"QPS_std\"],\n",
    "            thickness=1.5,\n",
    "            color='gray',\n",
    "            width=4\n",
    "        ),\n",
    "        error_y=dict(\n",
    "            type=\"data\",\n",
    "            array=sub_df[\"p95_std\"]/1000,\n",
    "            thickness=1.5,\n",
    "            color='gray',\n",
    "            width=4\n",
    "        ),\n",
    "        text=sub_df['target'],\n",
    "        hovertemplate=(\n",
    "        \"Achieved QPS: %{x}<br>\" +\n",
    "        \"95th Latency: %{y} ms<br>\" +\n",
    "        \"Target QPS: %{text}<extra></extra>\"\n",
    "        )\n",
    "    ))\n",
    "\n",
    "# Layout setting\n",
    "fig.update_layout(\n",
    "    title = \"Part 1: 95 Percentile Latency vs Achieved QPS\",\n",
    "    xaxis_title = \"QPS (actual achieved rather than target)\",\n",
    "    yaxis_title=\"95 Percentile Latency (ms)\",\n",
    "    xaxis = dict(range=[0, 80000]),\n",
    "    yaxis = dict(range=[0, 6]),\n",
    "    legend=dict(\n",
    "        x=0.99,\n",
    "        y=0.99,\n",
    "        xanchor=\"right\",\n",
    "        yanchor=\"top\",\n",
    "        bgcolor=\"rgba(255,255,255,0.7)\",\n",
    "        bordercolor=\"black\",\n",
    "        borderwidth=1,\n",
    "        font=dict(size=12)\n",
    "    )\n",
    ")\n",
    "\n",
    "fig.add_annotation(\n",
    "    text=\"Averaged across 3 runs\",\n",
    "    xref=\"paper\", yref=\"paper\",\n",
    "    x=0.99, y=0.01,\n",
    "    showarrow=False,\n",
    "    font=dict(size=12),\n",
    "    align=\"right\"\n",
    ")\n",
    "\n",
    "fig.show()"
   ]
  },
  {
   "cell_type": "markdown",
   "metadata": {},
   "source": [
    "Save the figure"
   ]
  },
  {
   "cell_type": "code",
   "execution_count": 19,
   "metadata": {},
   "outputs": [],
   "source": [
    "# It seems that I can't store the image locally but the html works\n",
    "# fig.write_image(\"fig/95_percentile_latency_achieved_qps.png\")\n",
    "fig.write_html(\"fig/95_percentile_latency_achieved_qps.html\")"
   ]
  }
 ],
 "metadata": {
  "kernelspec": {
   "display_name": "cca_venv",
   "language": "python",
   "name": "python3"
  },
  "language_info": {
   "codemirror_mode": {
    "name": "ipython",
    "version": 3
   },
   "file_extension": ".py",
   "mimetype": "text/x-python",
   "name": "python",
   "nbconvert_exporter": "python",
   "pygments_lexer": "ipython3",
   "version": "3.12.9"
  }
 },
 "nbformat": 4,
 "nbformat_minor": 2
}
