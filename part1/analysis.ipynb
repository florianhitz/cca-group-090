{
 "cells": [
  {
   "cell_type": "code",
   "execution_count": 25,
   "metadata": {},
   "outputs": [],
   "source": [
    "import os\n",
    "import pandas as pd\n",
    "import plotly.graph_objects as go"
   ]
  },
  {
   "cell_type": "markdown",
   "metadata": {},
   "source": [
    "### Create a fig folder to store the analysis figures"
   ]
  },
  {
   "cell_type": "code",
   "execution_count": 26,
   "metadata": {},
   "outputs": [],
   "source": [
    "if not os.path.exists(\"fig\"):\n",
    "    os.makedirs(\"fig\")"
   ]
  },
  {
   "cell_type": "markdown",
   "metadata": {},
   "source": [
    "## Graph Requirements"
   ]
  },
  {
   "cell_type": "markdown",
   "metadata": {},
   "source": [
    "- Queries per second (QPS) on the x-axis (the x-axis should range from 0 to 80K). (note: the actual achieved QPS, not the target QPS)\n",
    "- 95th percentile latency on the y-axis (the y-axis should range from 0 to 6 ms).\n",
    "- Label your axes.\n",
    "- 7 lines, one for each configuration. Add a legend.\n",
    "- State how many runs you averaged across and include error bars at each point in both\n",
    "dimensions"
   ]
  },
  {
   "cell_type": "markdown",
   "metadata": {},
   "source": [
    "### There are 7 configurations\n",
    "- without interference &rarr; some-memcached_run.txt\n",
    "- cpu &rarr; ibench-cpu_run.txt\n",
    "- l1d &rarr; ibench-l1d_run.txt\n",
    "- l1i &rarr; ibench-l1i_run.txt\n",
    "- l2 &rarr; ibench-l2_run.txt\n",
    "- llc &rarr; ibench-llc_run.txt\n",
    "- membw &rarr; ibench-membw_run-1.txt"
   ]
  },
  {
   "cell_type": "code",
   "execution_count": 27,
   "metadata": {},
   "outputs": [],
   "source": [
    "categories = [\"without_intereference\", \"cpu\", \"l1d\", \"l1i\", \"l2\", \"llc\", \"membw\"]\n",
    "benchmark_file = {}\n",
    "\n",
    "for category in categories:\n",
    "    benchmark_file[category] = []\n",
    "    if category == \"without_intereference\":\n",
    "        benchmark_file[category].append(f\"some-memcached\")\n",
    "    else:\n",
    "        benchmark_file[category].append(f\"ibench-{category}\")\n"
   ]
  },
  {
   "cell_type": "code",
   "execution_count": 28,
   "metadata": {},
   "outputs": [
    {
     "data": {
      "text/html": [
       "<div>\n",
       "<style scoped>\n",
       "    .dataframe tbody tr th:only-of-type {\n",
       "        vertical-align: middle;\n",
       "    }\n",
       "\n",
       "    .dataframe tbody tr th {\n",
       "        vertical-align: top;\n",
       "    }\n",
       "\n",
       "    .dataframe thead th {\n",
       "        text-align: right;\n",
       "    }\n",
       "</style>\n",
       "<table border=\"1\" class=\"dataframe\">\n",
       "  <thead>\n",
       "    <tr style=\"text-align: right;\">\n",
       "      <th></th>\n",
       "      <th>#type</th>\n",
       "      <th>avg</th>\n",
       "      <th>std</th>\n",
       "      <th>min</th>\n",
       "      <th>p5</th>\n",
       "      <th>p10</th>\n",
       "      <th>p50</th>\n",
       "      <th>p67</th>\n",
       "      <th>p75</th>\n",
       "      <th>p80</th>\n",
       "      <th>p85</th>\n",
       "      <th>p90</th>\n",
       "      <th>p95</th>\n",
       "      <th>p99</th>\n",
       "      <th>p999</th>\n",
       "      <th>p9999</th>\n",
       "      <th>QPS</th>\n",
       "      <th>target</th>\n",
       "      <th>filename</th>\n",
       "    </tr>\n",
       "  </thead>\n",
       "  <tbody>\n",
       "    <tr>\n",
       "      <th>0</th>\n",
       "      <td>read</td>\n",
       "      <td>208.0</td>\n",
       "      <td>92.0</td>\n",
       "      <td>80.4</td>\n",
       "      <td>139.7</td>\n",
       "      <td>151.6</td>\n",
       "      <td>203.3</td>\n",
       "      <td>220.4</td>\n",
       "      <td>230.2</td>\n",
       "      <td>236.5</td>\n",
       "      <td>246.8</td>\n",
       "      <td>258.4</td>\n",
       "      <td>275.3</td>\n",
       "      <td>318.9</td>\n",
       "      <td>1506.5</td>\n",
       "      <td>3821.8</td>\n",
       "      <td>4968.8</td>\n",
       "      <td>5000</td>\n",
       "      <td>some-memcached</td>\n",
       "    </tr>\n",
       "    <tr>\n",
       "      <th>1</th>\n",
       "      <td>read</td>\n",
       "      <td>234.9</td>\n",
       "      <td>78.5</td>\n",
       "      <td>86.8</td>\n",
       "      <td>139.1</td>\n",
       "      <td>158.2</td>\n",
       "      <td>232.6</td>\n",
       "      <td>254.7</td>\n",
       "      <td>267.5</td>\n",
       "      <td>275.5</td>\n",
       "      <td>287.5</td>\n",
       "      <td>301.1</td>\n",
       "      <td>323.4</td>\n",
       "      <td>373.6</td>\n",
       "      <td>1070.2</td>\n",
       "      <td>2470.9</td>\n",
       "      <td>9993.2</td>\n",
       "      <td>10000</td>\n",
       "      <td>some-memcached</td>\n",
       "    </tr>\n",
       "    <tr>\n",
       "      <th>2</th>\n",
       "      <td>read</td>\n",
       "      <td>244.5</td>\n",
       "      <td>121.5</td>\n",
       "      <td>74.4</td>\n",
       "      <td>129.6</td>\n",
       "      <td>146.9</td>\n",
       "      <td>242.3</td>\n",
       "      <td>267.9</td>\n",
       "      <td>282.1</td>\n",
       "      <td>292.3</td>\n",
       "      <td>305.1</td>\n",
       "      <td>320.3</td>\n",
       "      <td>346.1</td>\n",
       "      <td>411.1</td>\n",
       "      <td>1900.4</td>\n",
       "      <td>4932.4</td>\n",
       "      <td>15035.3</td>\n",
       "      <td>15000</td>\n",
       "      <td>some-memcached</td>\n",
       "    </tr>\n",
       "    <tr>\n",
       "      <th>3</th>\n",
       "      <td>read</td>\n",
       "      <td>252.3</td>\n",
       "      <td>95.5</td>\n",
       "      <td>74.4</td>\n",
       "      <td>126.3</td>\n",
       "      <td>142.5</td>\n",
       "      <td>254.4</td>\n",
       "      <td>284.0</td>\n",
       "      <td>299.5</td>\n",
       "      <td>311.7</td>\n",
       "      <td>325.3</td>\n",
       "      <td>344.0</td>\n",
       "      <td>372.8</td>\n",
       "      <td>436.8</td>\n",
       "      <td>677.2</td>\n",
       "      <td>2421.4</td>\n",
       "      <td>20078.8</td>\n",
       "      <td>20000</td>\n",
       "      <td>some-memcached</td>\n",
       "    </tr>\n",
       "    <tr>\n",
       "      <th>4</th>\n",
       "      <td>read</td>\n",
       "      <td>264.6</td>\n",
       "      <td>104.5</td>\n",
       "      <td>74.4</td>\n",
       "      <td>124.6</td>\n",
       "      <td>141.2</td>\n",
       "      <td>265.5</td>\n",
       "      <td>301.4</td>\n",
       "      <td>320.6</td>\n",
       "      <td>335.9</td>\n",
       "      <td>352.9</td>\n",
       "      <td>373.8</td>\n",
       "      <td>405.7</td>\n",
       "      <td>480.7</td>\n",
       "      <td>819.5</td>\n",
       "      <td>2668.6</td>\n",
       "      <td>24981.3</td>\n",
       "      <td>25000</td>\n",
       "      <td>some-memcached</td>\n",
       "    </tr>\n",
       "    <tr>\n",
       "      <th>...</th>\n",
       "      <td>...</td>\n",
       "      <td>...</td>\n",
       "      <td>...</td>\n",
       "      <td>...</td>\n",
       "      <td>...</td>\n",
       "      <td>...</td>\n",
       "      <td>...</td>\n",
       "      <td>...</td>\n",
       "      <td>...</td>\n",
       "      <td>...</td>\n",
       "      <td>...</td>\n",
       "      <td>...</td>\n",
       "      <td>...</td>\n",
       "      <td>...</td>\n",
       "      <td>...</td>\n",
       "      <td>...</td>\n",
       "      <td>...</td>\n",
       "      <td>...</td>\n",
       "      <td>...</td>\n",
       "    </tr>\n",
       "    <tr>\n",
       "      <th>331</th>\n",
       "      <td>read</td>\n",
       "      <td>1313.9</td>\n",
       "      <td>718.3</td>\n",
       "      <td>74.4</td>\n",
       "      <td>879.3</td>\n",
       "      <td>948.1</td>\n",
       "      <td>1160.8</td>\n",
       "      <td>1285.8</td>\n",
       "      <td>1422.0</td>\n",
       "      <td>1497.7</td>\n",
       "      <td>1574.3</td>\n",
       "      <td>1700.4</td>\n",
       "      <td>2126.9</td>\n",
       "      <td>3229.9</td>\n",
       "      <td>8091.0</td>\n",
       "      <td>10044.3</td>\n",
       "      <td>51431.8</td>\n",
       "      <td>60000</td>\n",
       "      <td>ibench-l1d</td>\n",
       "    </tr>\n",
       "    <tr>\n",
       "      <th>332</th>\n",
       "      <td>read</td>\n",
       "      <td>1370.5</td>\n",
       "      <td>753.6</td>\n",
       "      <td>86.8</td>\n",
       "      <td>927.9</td>\n",
       "      <td>980.4</td>\n",
       "      <td>1190.6</td>\n",
       "      <td>1372.8</td>\n",
       "      <td>1477.7</td>\n",
       "      <td>1538.1</td>\n",
       "      <td>1597.2</td>\n",
       "      <td>1712.4</td>\n",
       "      <td>2176.2</td>\n",
       "      <td>5044.2</td>\n",
       "      <td>8117.2</td>\n",
       "      <td>10385.7</td>\n",
       "      <td>50058.0</td>\n",
       "      <td>65000</td>\n",
       "      <td>ibench-l1d</td>\n",
       "    </tr>\n",
       "    <tr>\n",
       "      <th>333</th>\n",
       "      <td>read</td>\n",
       "      <td>1271.9</td>\n",
       "      <td>672.9</td>\n",
       "      <td>93.8</td>\n",
       "      <td>900.6</td>\n",
       "      <td>954.6</td>\n",
       "      <td>1131.2</td>\n",
       "      <td>1197.9</td>\n",
       "      <td>1258.6</td>\n",
       "      <td>1327.5</td>\n",
       "      <td>1470.8</td>\n",
       "      <td>1655.5</td>\n",
       "      <td>2123.6</td>\n",
       "      <td>3069.1</td>\n",
       "      <td>8070.7</td>\n",
       "      <td>9997.7</td>\n",
       "      <td>53543.0</td>\n",
       "      <td>70000</td>\n",
       "      <td>ibench-l1d</td>\n",
       "    </tr>\n",
       "    <tr>\n",
       "      <th>334</th>\n",
       "      <td>read</td>\n",
       "      <td>1330.6</td>\n",
       "      <td>712.3</td>\n",
       "      <td>160.7</td>\n",
       "      <td>925.6</td>\n",
       "      <td>976.6</td>\n",
       "      <td>1167.5</td>\n",
       "      <td>1269.9</td>\n",
       "      <td>1393.3</td>\n",
       "      <td>1474.9</td>\n",
       "      <td>1559.9</td>\n",
       "      <td>1687.7</td>\n",
       "      <td>2154.6</td>\n",
       "      <td>3328.6</td>\n",
       "      <td>8083.3</td>\n",
       "      <td>9838.7</td>\n",
       "      <td>51453.8</td>\n",
       "      <td>75000</td>\n",
       "      <td>ibench-l1d</td>\n",
       "    </tr>\n",
       "    <tr>\n",
       "      <th>335</th>\n",
       "      <td>read</td>\n",
       "      <td>1262.5</td>\n",
       "      <td>655.1</td>\n",
       "      <td>137.8</td>\n",
       "      <td>895.5</td>\n",
       "      <td>949.3</td>\n",
       "      <td>1124.4</td>\n",
       "      <td>1185.9</td>\n",
       "      <td>1251.2</td>\n",
       "      <td>1318.6</td>\n",
       "      <td>1466.0</td>\n",
       "      <td>1653.0</td>\n",
       "      <td>2110.0</td>\n",
       "      <td>2954.5</td>\n",
       "      <td>8080.4</td>\n",
       "      <td>10944.1</td>\n",
       "      <td>53889.4</td>\n",
       "      <td>80000</td>\n",
       "      <td>ibench-l1d</td>\n",
       "    </tr>\n",
       "  </tbody>\n",
       "</table>\n",
       "<p>336 rows × 19 columns</p>\n",
       "</div>"
      ],
      "text/plain": [
       "    #type     avg    std    min     p5    p10     p50     p67     p75     p80  \\\n",
       "0    read   208.0   92.0   80.4  139.7  151.6   203.3   220.4   230.2   236.5   \n",
       "1    read   234.9   78.5   86.8  139.1  158.2   232.6   254.7   267.5   275.5   \n",
       "2    read   244.5  121.5   74.4  129.6  146.9   242.3   267.9   282.1   292.3   \n",
       "3    read   252.3   95.5   74.4  126.3  142.5   254.4   284.0   299.5   311.7   \n",
       "4    read   264.6  104.5   74.4  124.6  141.2   265.5   301.4   320.6   335.9   \n",
       "..    ...     ...    ...    ...    ...    ...     ...     ...     ...     ...   \n",
       "331  read  1313.9  718.3   74.4  879.3  948.1  1160.8  1285.8  1422.0  1497.7   \n",
       "332  read  1370.5  753.6   86.8  927.9  980.4  1190.6  1372.8  1477.7  1538.1   \n",
       "333  read  1271.9  672.9   93.8  900.6  954.6  1131.2  1197.9  1258.6  1327.5   \n",
       "334  read  1330.6  712.3  160.7  925.6  976.6  1167.5  1269.9  1393.3  1474.9   \n",
       "335  read  1262.5  655.1  137.8  895.5  949.3  1124.4  1185.9  1251.2  1318.6   \n",
       "\n",
       "        p85     p90     p95     p99    p999    p9999      QPS  target  \\\n",
       "0     246.8   258.4   275.3   318.9  1506.5   3821.8   4968.8    5000   \n",
       "1     287.5   301.1   323.4   373.6  1070.2   2470.9   9993.2   10000   \n",
       "2     305.1   320.3   346.1   411.1  1900.4   4932.4  15035.3   15000   \n",
       "3     325.3   344.0   372.8   436.8   677.2   2421.4  20078.8   20000   \n",
       "4     352.9   373.8   405.7   480.7   819.5   2668.6  24981.3   25000   \n",
       "..      ...     ...     ...     ...     ...      ...      ...     ...   \n",
       "331  1574.3  1700.4  2126.9  3229.9  8091.0  10044.3  51431.8   60000   \n",
       "332  1597.2  1712.4  2176.2  5044.2  8117.2  10385.7  50058.0   65000   \n",
       "333  1470.8  1655.5  2123.6  3069.1  8070.7   9997.7  53543.0   70000   \n",
       "334  1559.9  1687.7  2154.6  3328.6  8083.3   9838.7  51453.8   75000   \n",
       "335  1466.0  1653.0  2110.0  2954.5  8080.4  10944.1  53889.4   80000   \n",
       "\n",
       "           filename  \n",
       "0    some-memcached  \n",
       "1    some-memcached  \n",
       "2    some-memcached  \n",
       "3    some-memcached  \n",
       "4    some-memcached  \n",
       "..              ...  \n",
       "331      ibench-l1d  \n",
       "332      ibench-l1d  \n",
       "333      ibench-l1d  \n",
       "334      ibench-l1d  \n",
       "335      ibench-l1d  \n",
       "\n",
       "[336 rows x 19 columns]"
      ]
     },
     "execution_count": 28,
     "metadata": {},
     "output_type": "execute_result"
    }
   ],
   "source": [
    "dir_path = \"benchmarks\"\n",
    "file_list = os.listdir(dir_path)\n",
    "\n",
    "df_list = []\n",
    "for filename in file_list:\n",
    "    df = pd.read_csv(f\"{dir_path}/{filename}\", nrows=16, header=1, sep=\"\\\\s+\")\n",
    "    df[\"filename\"] = filename.split(\"_\")[0]\n",
    "    df_list.append(df)\n",
    "\n",
    "df = pd.concat(df_list, ignore_index=True)\n",
    "df"
   ]
  },
  {
   "cell_type": "code",
   "execution_count": 29,
   "metadata": {},
   "outputs": [
    {
     "name": "stdout",
     "output_type": "stream",
     "text": [
      "     filename  target     p95_mean    p95_std      QPS_mean    QPS_std\n",
      "0  ibench-cpu    5000  1042.300000  61.850061   4991.133333  13.900120\n",
      "1  ibench-cpu   10000  1340.300000   4.757100  10010.133333  38.814602\n",
      "2  ibench-cpu   15000  1352.933333   4.481443  14972.600000  63.208544\n",
      "3  ibench-cpu   20000  1380.300000  11.246777  19963.533333  82.404207\n",
      "4  ibench-cpu   25000  1417.133333  11.850035  25021.566667  33.338616\n"
     ]
    }
   ],
   "source": [
    "agg_df = df.groupby(['filename', 'target']).agg(\n",
    "    p95_mean=('p95', 'mean'),\n",
    "    p95_std=('p95', 'std'),\n",
    "    QPS_mean=('QPS', 'mean'),\n",
    "    QPS_std=('QPS', 'std'),\n",
    ").reset_index()\n",
    "\n",
    "print(agg_df.head())"
   ]
  },
  {
   "cell_type": "code",
   "execution_count": 30,
   "metadata": {},
   "outputs": [
    {
     "data": {
      "application/vnd.plotly.v1+json": {
       "config": {
        "plotlyServerURL": "https://plot.ly"
       },
       "data": [
        {
         "error_x": {
          "array": {
           "bdata": "24cYhNzMK0Bql2LhRGhDQKUhko+xmk9ASrUWh96ZVEBulvfGV6tAQA6JMK8gGVRAK4nkmMwdkkAhgYDv2iueQLaEKOwKUZxAm2nOjq0wmEBny6ttYFd6QGvyk6AB1HVAGRkFo32xe0Ak4AAXc8x3QJs5zt6UxnFANAbWzhO1iUA=",
           "dtype": "f8"
          },
          "color": "gray",
          "thickness": 1.5,
          "type": "data",
          "width": 4
         },
         "error_y": {
          "array": {
           "bdata": "JNVTp8+qrz9hyNFLLnxzPwNBGEEiW3I/WUcR5owIhz9Zrc7L1ESIPz1CB2qwneg/3Ytw0ZWP6D8WLEMYYKHNPxsdT/sMmMk/1csRtP2CtT/7U4zTErC2P3HwofQ2hoY/NH2shJudlz/I7X7FQvWAP9LQBwOlT5Q/hienQdKUnj8=",
           "dtype": "f8"
          },
          "color": "gray",
          "thickness": 1.5,
          "type": "data",
          "width": 4
         },
         "hovertemplate": "Achieved QPS: %{x}<br>95th Latency: %{y} ms<br>Target QPS: %{text}<extra></extra>",
         "line": {
          "width": 2
         },
         "marker": {
          "size": 8
         },
         "mode": "lines+markers",
         "name": "ibench-cpu",
         "text": {
          "bdata": "AAAAAACIs0AAAAAAAIjDQAAAAAAATM1AAAAAAACI00AAAAAAAGrYQAAAAAAATN1AAAAAAAAX4UAAAAAAAIjjQAAAAAAA+eVAAAAAAABq6EAAAAAAANvqQAAAAAAATO1AAAAAAAC970AAAAAAABfxQAAAAACAT/JAAAAAAACI80A=",
          "dtype": "f8"
         },
         "type": "scatter",
         "x": {
          "bdata": "IiIiIiJ/s0AREREREY3DQM3MzMxMPs1AIiIiIuJ+00BEREREZG/YQO/u7u4uTN1A7+7u7h6f4EAiIiIiYrvgQO/u7u6+4+BAmZmZmem+4ECZmZmZCdfgQJmZmZnZ/OBAAAAAAIBQ4UCZmZmZWZDgQO/u7u5OguBAvLu7u+sS4UA=",
          "dtype": "f8"
         },
         "y": {
          "bdata": "zO7Jw0Kt8D/EQq1p3nH1P+JbRWydpfU/Z7Pqc7UV9j9kz4sAlKz2P2UZ4lgXtwFADG5+1g9ECUAaB4TD+NYOQP2H9NvXgQ5AzMmeFwEoDkD0kYEp8DsOQEvIBz2b1Q1AsglD97+2DUCGpCkVZx8OQCJseHqlLA5AmLho20PVDUA=",
          "dtype": "f8"
         }
        },
        {
         "error_x": {
          "array": {
           "bdata": "GTPqYmWSKUCv7sdsAeNJQCwRaXlk81NAnLpRtTEVS0CkgqvwKqtMQDTYiDnIY0NAJq5rco8aWkDx8E5fBodEQNxau26I81lAqCzesUf6ckAZ4nN8Q2udQOvNWbD0bIlAK04sapn+lkCF+y6nVQSMQEq7r0FIMp9AdN78fsKLkUA=",
           "dtype": "f8"
          },
          "color": "gray",
          "thickness": 1.5,
          "type": "data",
          "width": 4
         },
         "error_y": {
          "array": {
           "bdata": "ncTrXcavcj+K4eN/t51UP9hYAOM5D20/BHdVjSBReT/zMArvXt6KPwfQoouwT3o/rDL+849ebj+bZn+cc/R3P3irWrY62NY/UNM5z5jIwj9VFLdDJIurP/lWdzRR7ZE/SfCfE1cdmz91RQhh5DOWPyNmLpm4a58/A2w/wy7pnz8=",
           "dtype": "f8"
          },
          "color": "gray",
          "thickness": 1.5,
          "type": "data",
          "width": 4
         },
         "hovertemplate": "Achieved QPS: %{x}<br>95th Latency: %{y} ms<br>Target QPS: %{text}<extra></extra>",
         "line": {
          "width": 2
         },
         "marker": {
          "size": 8
         },
         "mode": "lines+markers",
         "name": "ibench-l1d",
         "text": {
          "bdata": "AAAAAACIs0AAAAAAAIjDQAAAAAAATM1AAAAAAACI00AAAAAAAGrYQAAAAAAATN1AAAAAAAAX4UAAAAAAAIjjQAAAAAAA+eVAAAAAAABq6EAAAAAAANvqQAAAAAAATO1AAAAAAAC970AAAAAAABfxQAAAAACAT/JAAAAAAACI80A=",
          "dtype": "f8"
         },
         "type": "scatter",
         "x": {
          "bdata": "AAAAAACRs0CIiIiIiIbDQAAAAAAAX81AzczMzCyI00AzMzMzM2zYQERERESEO91A7+7u7s4e4UBEREREFJPjQJmZmZmZ6+VAmZmZmWlI6EAzMzMzI1/pQN3d3d1dDulAmZmZmUk76UBnZmZm5qTpQCMiIiIiyulA3d3d3a2u6UA=",
          "dtype": "f8"
         },
         "y": {
          "bdata": "seQXS36x0D9fBKBkhTXUP/HxHKS6k9Y/B/NE/Ruh2D9ns+pztRXbPx0QDuNbRdw/zRYjJVDX3T/8rB+IGQfgP6gyn4aCLPA/urVfUSRy+z+OLkl4VfoAQHxhMlUwKgFAkMUj3ic0AUDjgHAY3yoBQDm0yHa+HwFAgNk9eVgoAUA=",
          "dtype": "f8"
         }
        },
        {
         "error_x": {
          "array": {
           "bdata": "Lvly0qo+MEB9Peo5wmc/QLs6ispt/kVAVcBFDD7yN0Dv5+v2bwpEQF06zk/3REBAb3CWkVUne0D5RRprvM2AQBytrBftwohAjq+CdHslU0AgpM1Bi5KHQICo9M1wF4VARR07quFEhkDM2DScFRd7QLvxBtLK/YZA9ra+Kq+6f0A=",
           "dtype": "f8"
          },
          "color": "gray",
          "thickness": 1.5,
          "type": "data",
          "width": 4
         },
         "error_y": {
          "array": {
           "bdata": "kfe5QCpipz8Xkc9ZRg2CP9d+mfLvUoI/yOSv8L+clT/wYQpg4kSUP3WkVUkNI+k/BurmnYqe5T9zkPz2WomlP4/ATlWgI6k/5z7sELdHkz/O6ufW3ViiP7EwEkj//c8/Pr0Elf38oD/hFX51HG6QP7N0ZPQ9Ga0/kopOJKHcmz8=",
           "dtype": "f8"
          },
          "color": "gray",
          "thickness": 1.5,
          "type": "data",
          "width": 4
         },
         "hovertemplate": "Achieved QPS: %{x}<br>95th Latency: %{y} ms<br>Target QPS: %{text}<extra></extra>",
         "line": {
          "width": 2
         },
         "marker": {
          "size": 8
         },
         "mode": "lines+markers",
         "name": "ibench-l1i",
         "text": {
          "bdata": "AAAAAACIs0AAAAAAAIjDQAAAAAAATM1AAAAAAACI00AAAAAAAGrYQAAAAAAATN1AAAAAAAAX4UAAAAAAAIjjQAAAAAAA+eVAAAAAAABq6EAAAAAAANvqQAAAAAAATO1AAAAAAAC970AAAAAAABfxQAAAAACAT/JAAAAAAACI80A=",
          "dtype": "f8"
         },
         "type": "scatter",
         "x": {
          "bdata": "iYiIiIiCs0CIiIiICIrDQGdmZmbmaM1A7+7u7k6I00AAAAAAoGTYQERERERESd1AeHd3d9fv4EAiIiIiAmLgQJmZmZnJPOBAiYiIiNhe4UBnZmZmJv7gQIiIiIiI1uBAZ2ZmZmbB4ECZmZmZ2fXgQN7d3d29geBAZ2ZmZgb24EA=",
          "dtype": "f8"
         },
         "y": {
          "bdata": "GP75o5Vo9D+Gf/5oJZr1P80WIyVQ1/U/SCvRbDFS9j8IGHCpXSb3PyUGgZVDi/8/sXWWRrmhCUDSRwamwG8OQJ45/h7PwQ5APOJ9QmOTDUD7psMdgr0NQMSuALnX3A5AupNiWq4RDkDnsVOZT8MNQHZM8GCeKA5AdEaU9gbfDUA=",
          "dtype": "f8"
         }
        },
        {
         "error_x": {
          "array": {
           "bdata": "5mjRjjVVMkBjBnuvIaFRQG0P6pQaIk5ArwDip4hzVECCzi3QOsBGQPbN1pQ5i1pAV13ezyRfXEAUeSX4u25aQNoHua6GdFhAZr2HHfy8W0DGhEDh9RCTQH85M0+f44pAoqIVMy3ul0CtKmxlISCUQM8iEsOASqRACvrulM6CjEA=",
           "dtype": "f8"
          },
          "color": "gray",
          "thickness": 1.5,
          "type": "data",
          "width": 4
         },
         "error_y": {
          "array": {
           "bdata": "t61mgmE/Rz/54nHskQ1RP73q4IqxNXU/dJMejpSXcj+JmFCYe0BlPxh0qhedfW4/+n5qvHSTaD8sErKvhJp2PyT6mZbVEH8/9Injf3Uxwz8HE3m167yeP9B4SzPHfIU/z6R7E6hbkT/LNqNpD4CSPxo8NTwdM6c/WfabKEJVkD8=",
           "dtype": "f8"
          },
          "color": "gray",
          "thickness": 1.5,
          "type": "data",
          "width": 4
         },
         "hovertemplate": "Achieved QPS: %{x}<br>95th Latency: %{y} ms<br>Target QPS: %{text}<extra></extra>",
         "line": {
          "width": 2
         },
         "marker": {
          "size": 8
         },
         "mode": "lines+markers",
         "name": "ibench-l2",
         "text": {
          "bdata": "AAAAAACIs0AAAAAAAIjDQAAAAAAATM1AAAAAAACI00AAAAAAAGrYQAAAAAAATN1AAAAAAAAX4UAAAAAAAIjjQAAAAAAA+eVAAAAAAABq6EAAAAAAANvqQAAAAAAATO1AAAAAAAC970AAAAAAABfxQAAAAACAT/JAAAAAAACI80A=",
          "dtype": "f8"
         },
         "type": "scatter",
         "x": {
          "bdata": "ERERERGWs0C8u7u7e5XDQEREREQEO81AiYiIiEiE00Dv7u7u7l3YQIiIiIjIPt1A7+7u7m4O4UAAAAAAwIjjQBERERFR+OVARERERDRh6EBERERE1O/pQAAAAAAgr+lAq6qqqkrK6UDv7u7ubhHqQBERERFxaelAAAAAAGC66UA=",
          "dtype": "f8"
         },
         "y": {
          "bdata": "6rrduLIx0D+t/YoikaPSP/l7PAep7tQ/Kz3AgEvt1j9VMCqpE9DYP81geX3T4do/2ht8YTJV3D8ef4/nINXdP0rCq9IDDOA/VqLZYqQE+D8+fIZdAXIAQDvfT42X7gBATak4+/AZAUBy9uEz7AoBQGTxiPcJDQFAggTFjzH3AEA=",
          "dtype": "f8"
         }
        },
        {
         "error_x": {
          "array": {
           "bdata": "Ew9LXogVQ0AIKogZwghIQDVdpjCa2CRA7lxuhyy5OUCEO7yPAihCQP/81JBB90ZAvW2vRBE5YEACH771ubxWQIHIGMLX7pRATgVvrtNLcEDvLLbHIQOhQHMlxtakwpFAALzgq01GkEBFoxYGFl17QKmtrVU3daRASQN0DB1FnUA=",
           "dtype": "f8"
          },
          "color": "gray",
          "thickness": 1.5,
          "type": "data",
          "width": 4
         },
         "error_y": {
          "array": {
           "bdata": "2rAyMbjekT+O/wGCJmOQPxZSCgLuWqs/vOrAuuPVpj9g6v/n0E6lP6YiQLdGt8g/4QYteDuc1T+90QIaDwvJP5NuIWYysbo/SsuvIWdtmD8N2hkjbcjAP3+OnJP8hqU/1Ywo6kfMgT/7GOHbI0B5P+odzwxjZsQ/g/v8z6AArT8=",
           "dtype": "f8"
          },
          "color": "gray",
          "thickness": 1.5,
          "type": "data",
          "width": 4
         },
         "hovertemplate": "Achieved QPS: %{x}<br>95th Latency: %{y} ms<br>Target QPS: %{text}<extra></extra>",
         "line": {
          "width": 2
         },
         "marker": {
          "size": 8
         },
         "mode": "lines+markers",
         "name": "ibench-llc",
         "text": {
          "bdata": "AAAAAACIs0AAAAAAAIjDQAAAAAAATM1AAAAAAACI00AAAAAAAGrYQAAAAAAATN1AAAAAAAAX4UAAAAAAAIjjQAAAAAAA+eVAAAAAAABq6EAAAAAAANvqQAAAAAAATO1AAAAAAAC970AAAAAAABfxQAAAAACAT/JAAAAAAACI80A=",
          "dtype": "f8"
         },
         "type": "scatter",
         "x": {
          "bdata": "RERERER3s0C8u7u7O5HDQGdmZmbmXc1AAAAAAGCP00ARERERsWbYQM3MzMyMQd1AAAAAACAc4UB4d3d314njQImIiIjItORAAAAAAOCE5UDv7u7uvhLlQLy7u7sboeVAERERETH25EDd3d3dnVXlQKuqqqoqDeVAeHd3d4dZ5EA=",
          "dtype": "f8"
         },
         "y": {
          "bdata": "cfOzfiBm2D/NFiMlUNfdPzomeDBP1OM/YVeA3Gsu5D9fKcsQx7rmP/idOf4ez+0/+AmNTRi6+z8awFsgQXEAQNH9r0095QRALyd7XgQgBUB1/2tTT3kFQCti6yyN8gRA5on6N0KZBUAFfmeOv0cFQB87lfk0lAVAtBLNFiMlBkA=",
          "dtype": "f8"
         }
        },
        {
         "error_x": {
          "array": {
           "bdata": "/jQVre4KREBd3ILjAgE7QDhWJBEdAkZAUpZoVAonXEA37AtGnVVRQH/IAhT1e1hA9S8L0jTNIEB0drqHLaxDQL7kFbd6aGVASYrRu8WTgkDc+0FNFChZQCeDH3g3JYJAPyhWhyyVqEDcoOWO8j+OQIV75ySEuIJAmsbZyBDdfEA=",
           "dtype": "f8"
          },
          "color": "gray",
          "thickness": 1.5,
          "type": "data",
          "width": 4
         },
         "error_y": {
          "array": {
           "bdata": "7zEin0gtcj+IAWnuzbWCP26MiiJ0PGk/LRpB1Wn3cT/1K5x8zM9xP3fkmDv346A/WvabKEJVkD/eTA3VdjerP3AtSiEe/MA/atiU2rmr1j8y0+KUMwmvPy60IKNWSps/l0RO9ax+tD+cSDw6XmedP4icM9Owhpw/VukO6SvKmz8=",
           "dtype": "f8"
          },
          "color": "gray",
          "thickness": 1.5,
          "type": "data",
          "width": 4
         },
         "hovertemplate": "Achieved QPS: %{x}<br>95th Latency: %{y} ms<br>Target QPS: %{text}<extra></extra>",
         "line": {
          "width": 2
         },
         "marker": {
          "size": 8
         },
         "mode": "lines+markers",
         "name": "ibench-membw",
         "text": {
          "bdata": "AAAAAACIs0AAAAAAAIjDQAAAAAAATM1AAAAAAACI00AAAAAAAGrYQAAAAAAATN1AAAAAAAAX4UAAAAAAAIjjQAAAAAAA+eVAAAAAAABq6EAAAAAAANvqQAAAAAAATO1AAAAAAAC970AAAAAAABfxQAAAAACAT/JAAAAAAACI80A=",
          "dtype": "f8"
         },
         "type": "scatter",
         "x": {
          "bdata": "Z2ZmZmZms0ARERERkX/DQBERERERVM1A3t3d3d2O00AzMzMz81/YQCMiIiKCSd1A7+7u7i4Y4UDNzMzMrILjQLy7u7tb/eVAEREREeFF6EBnZmZmBtjqQIiIiIhoIu1AAAAAAMAC7kAjIiIiItLuQN7d3d2FFfBAAAAAAECF70A=",
          "dtype": "f8"
         },
         "y": {
          "bdata": "riK2ztIo0z+WjeHEagbXPyZ1ApoIG9o/7S+7Jw8L3T/k8h/Sb1/fP4QvTKYKRuE/escpOpLL4T/d2q8oEjnkPz12KvNpKOY//Knx0k1i9D9BpN++Dpz1P62OCR7ME/Y/bHh6pSxD/D/0/dR46Sb9P7GXkz0vAvw/l7U6Jngw/D8=",
          "dtype": "f8"
         }
        },
        {
         "error_x": {
          "array": {
           "bdata": "zNcfggMYM0AT4JuaNHNDQC5k5h58i0ZA2xaVPvkUS0As5XPqbyUpQGp+tbcSkVtAnB+l0KnJYUAgsJsW6uBBQKX8E+kf2z5A9LCerLQwVkBOeeHSnk1fQKR3VGZdcUpAH2uRKIthc0CE+uOnfLmSQN0J317o/5RAFAL8Zne3jEA=",
           "dtype": "f8"
          },
          "color": "gray",
          "thickness": 1.5,
          "type": "data",
          "width": 4
         },
         "error_y": {
          "array": {
           "bdata": "36vzvN2/aT/mb4Nvy1iBPyv6gR6V6nc/PhHrtxrxgz8RFYId0uyFPxBpRHFMZnk/B6w1dcSzfD90U/cnqZGRP3VBVB4xZII/kuiBjJdThz9DA2Ch4T3GP+7KwyIm7LY/VIR0lTyGnj/cYaDBJHKXP1bOAykkRY8/fLPbHHDciT8=",
           "dtype": "f8"
          },
          "color": "gray",
          "thickness": 1.5,
          "type": "data",
          "width": 4
         },
         "hovertemplate": "Achieved QPS: %{x}<br>95th Latency: %{y} ms<br>Target QPS: %{text}<extra></extra>",
         "line": {
          "width": 2
         },
         "marker": {
          "size": 8
         },
         "mode": "lines+markers",
         "name": "some-memcached",
         "text": {
          "bdata": "AAAAAACIs0AAAAAAAIjDQAAAAAAATM1AAAAAAACI00AAAAAAAGrYQAAAAAAATN1AAAAAAAAX4UAAAAAAAIjjQAAAAAAA+eVAAAAAAABq6EAAAAAAANvqQAAAAAAATO1AAAAAAAC970AAAAAAABfxQAAAAACAT/JAAAAAAACI80A=",
          "dtype": "f8"
         },
         "type": "scatter",
         "x": {
          "bdata": "eHd3d3dvs0AjIiIiooTDQBARERHRVc1AiIiIiGiY00CIiIiI6GjYQM3MzMyMUt1AREREROQR4UCJiIiIiJDjQM3MzMys/+VAmZmZmXlr6EAAAAAA0NLqQEREREQkQ+1AEREREeGE70CrqqqqyoTvQCMiIiJi5u9Aq6qqqkpy70A=",
          "dtype": "f8"
         },
         "y": {
          "bdata": "cT0K16Nw0T///NFKNFvUPxOG7n9t6tU/YC8ne14E2D9hw9MrZRnaP8e3itg6S9s/Bci95kLS3D/IuriNBvDeP4UQfWRgCuA/TDeJQWDl4D94d3d3d3fnP/E7c/w9nvQ/fmeOv8dz+j9++Ay7AuT7P34dOGdEafs/QTiMbxWx+z8=",
          "dtype": "f8"
         }
        }
       ],
       "layout": {
        "annotations": [
         {
          "align": "right",
          "font": {
           "size": 12
          },
          "showarrow": false,
          "text": "Averaged across 3 runs",
          "x": 0.99,
          "xref": "paper",
          "y": 0.01,
          "yref": "paper"
         }
        ],
        "legend": {
         "bgcolor": "rgba(255,255,255,0.7)",
         "bordercolor": "black",
         "borderwidth": 1,
         "font": {
          "size": 12
         },
         "x": 0.99,
         "xanchor": "right",
         "y": 0.99,
         "yanchor": "top"
        },
        "template": {
         "data": {
          "bar": [
           {
            "error_x": {
             "color": "#2a3f5f"
            },
            "error_y": {
             "color": "#2a3f5f"
            },
            "marker": {
             "line": {
              "color": "#E5ECF6",
              "width": 0.5
             },
             "pattern": {
              "fillmode": "overlay",
              "size": 10,
              "solidity": 0.2
             }
            },
            "type": "bar"
           }
          ],
          "barpolar": [
           {
            "marker": {
             "line": {
              "color": "#E5ECF6",
              "width": 0.5
             },
             "pattern": {
              "fillmode": "overlay",
              "size": 10,
              "solidity": 0.2
             }
            },
            "type": "barpolar"
           }
          ],
          "carpet": [
           {
            "aaxis": {
             "endlinecolor": "#2a3f5f",
             "gridcolor": "white",
             "linecolor": "white",
             "minorgridcolor": "white",
             "startlinecolor": "#2a3f5f"
            },
            "baxis": {
             "endlinecolor": "#2a3f5f",
             "gridcolor": "white",
             "linecolor": "white",
             "minorgridcolor": "white",
             "startlinecolor": "#2a3f5f"
            },
            "type": "carpet"
           }
          ],
          "choropleth": [
           {
            "colorbar": {
             "outlinewidth": 0,
             "ticks": ""
            },
            "type": "choropleth"
           }
          ],
          "contour": [
           {
            "colorbar": {
             "outlinewidth": 0,
             "ticks": ""
            },
            "colorscale": [
             [
              0,
              "#0d0887"
             ],
             [
              0.1111111111111111,
              "#46039f"
             ],
             [
              0.2222222222222222,
              "#7201a8"
             ],
             [
              0.3333333333333333,
              "#9c179e"
             ],
             [
              0.4444444444444444,
              "#bd3786"
             ],
             [
              0.5555555555555556,
              "#d8576b"
             ],
             [
              0.6666666666666666,
              "#ed7953"
             ],
             [
              0.7777777777777778,
              "#fb9f3a"
             ],
             [
              0.8888888888888888,
              "#fdca26"
             ],
             [
              1,
              "#f0f921"
             ]
            ],
            "type": "contour"
           }
          ],
          "contourcarpet": [
           {
            "colorbar": {
             "outlinewidth": 0,
             "ticks": ""
            },
            "type": "contourcarpet"
           }
          ],
          "heatmap": [
           {
            "colorbar": {
             "outlinewidth": 0,
             "ticks": ""
            },
            "colorscale": [
             [
              0,
              "#0d0887"
             ],
             [
              0.1111111111111111,
              "#46039f"
             ],
             [
              0.2222222222222222,
              "#7201a8"
             ],
             [
              0.3333333333333333,
              "#9c179e"
             ],
             [
              0.4444444444444444,
              "#bd3786"
             ],
             [
              0.5555555555555556,
              "#d8576b"
             ],
             [
              0.6666666666666666,
              "#ed7953"
             ],
             [
              0.7777777777777778,
              "#fb9f3a"
             ],
             [
              0.8888888888888888,
              "#fdca26"
             ],
             [
              1,
              "#f0f921"
             ]
            ],
            "type": "heatmap"
           }
          ],
          "histogram": [
           {
            "marker": {
             "pattern": {
              "fillmode": "overlay",
              "size": 10,
              "solidity": 0.2
             }
            },
            "type": "histogram"
           }
          ],
          "histogram2d": [
           {
            "colorbar": {
             "outlinewidth": 0,
             "ticks": ""
            },
            "colorscale": [
             [
              0,
              "#0d0887"
             ],
             [
              0.1111111111111111,
              "#46039f"
             ],
             [
              0.2222222222222222,
              "#7201a8"
             ],
             [
              0.3333333333333333,
              "#9c179e"
             ],
             [
              0.4444444444444444,
              "#bd3786"
             ],
             [
              0.5555555555555556,
              "#d8576b"
             ],
             [
              0.6666666666666666,
              "#ed7953"
             ],
             [
              0.7777777777777778,
              "#fb9f3a"
             ],
             [
              0.8888888888888888,
              "#fdca26"
             ],
             [
              1,
              "#f0f921"
             ]
            ],
            "type": "histogram2d"
           }
          ],
          "histogram2dcontour": [
           {
            "colorbar": {
             "outlinewidth": 0,
             "ticks": ""
            },
            "colorscale": [
             [
              0,
              "#0d0887"
             ],
             [
              0.1111111111111111,
              "#46039f"
             ],
             [
              0.2222222222222222,
              "#7201a8"
             ],
             [
              0.3333333333333333,
              "#9c179e"
             ],
             [
              0.4444444444444444,
              "#bd3786"
             ],
             [
              0.5555555555555556,
              "#d8576b"
             ],
             [
              0.6666666666666666,
              "#ed7953"
             ],
             [
              0.7777777777777778,
              "#fb9f3a"
             ],
             [
              0.8888888888888888,
              "#fdca26"
             ],
             [
              1,
              "#f0f921"
             ]
            ],
            "type": "histogram2dcontour"
           }
          ],
          "mesh3d": [
           {
            "colorbar": {
             "outlinewidth": 0,
             "ticks": ""
            },
            "type": "mesh3d"
           }
          ],
          "parcoords": [
           {
            "line": {
             "colorbar": {
              "outlinewidth": 0,
              "ticks": ""
             }
            },
            "type": "parcoords"
           }
          ],
          "pie": [
           {
            "automargin": true,
            "type": "pie"
           }
          ],
          "scatter": [
           {
            "fillpattern": {
             "fillmode": "overlay",
             "size": 10,
             "solidity": 0.2
            },
            "type": "scatter"
           }
          ],
          "scatter3d": [
           {
            "line": {
             "colorbar": {
              "outlinewidth": 0,
              "ticks": ""
             }
            },
            "marker": {
             "colorbar": {
              "outlinewidth": 0,
              "ticks": ""
             }
            },
            "type": "scatter3d"
           }
          ],
          "scattercarpet": [
           {
            "marker": {
             "colorbar": {
              "outlinewidth": 0,
              "ticks": ""
             }
            },
            "type": "scattercarpet"
           }
          ],
          "scattergeo": [
           {
            "marker": {
             "colorbar": {
              "outlinewidth": 0,
              "ticks": ""
             }
            },
            "type": "scattergeo"
           }
          ],
          "scattergl": [
           {
            "marker": {
             "colorbar": {
              "outlinewidth": 0,
              "ticks": ""
             }
            },
            "type": "scattergl"
           }
          ],
          "scattermap": [
           {
            "marker": {
             "colorbar": {
              "outlinewidth": 0,
              "ticks": ""
             }
            },
            "type": "scattermap"
           }
          ],
          "scattermapbox": [
           {
            "marker": {
             "colorbar": {
              "outlinewidth": 0,
              "ticks": ""
             }
            },
            "type": "scattermapbox"
           }
          ],
          "scatterpolar": [
           {
            "marker": {
             "colorbar": {
              "outlinewidth": 0,
              "ticks": ""
             }
            },
            "type": "scatterpolar"
           }
          ],
          "scatterpolargl": [
           {
            "marker": {
             "colorbar": {
              "outlinewidth": 0,
              "ticks": ""
             }
            },
            "type": "scatterpolargl"
           }
          ],
          "scatterternary": [
           {
            "marker": {
             "colorbar": {
              "outlinewidth": 0,
              "ticks": ""
             }
            },
            "type": "scatterternary"
           }
          ],
          "surface": [
           {
            "colorbar": {
             "outlinewidth": 0,
             "ticks": ""
            },
            "colorscale": [
             [
              0,
              "#0d0887"
             ],
             [
              0.1111111111111111,
              "#46039f"
             ],
             [
              0.2222222222222222,
              "#7201a8"
             ],
             [
              0.3333333333333333,
              "#9c179e"
             ],
             [
              0.4444444444444444,
              "#bd3786"
             ],
             [
              0.5555555555555556,
              "#d8576b"
             ],
             [
              0.6666666666666666,
              "#ed7953"
             ],
             [
              0.7777777777777778,
              "#fb9f3a"
             ],
             [
              0.8888888888888888,
              "#fdca26"
             ],
             [
              1,
              "#f0f921"
             ]
            ],
            "type": "surface"
           }
          ],
          "table": [
           {
            "cells": {
             "fill": {
              "color": "#EBF0F8"
             },
             "line": {
              "color": "white"
             }
            },
            "header": {
             "fill": {
              "color": "#C8D4E3"
             },
             "line": {
              "color": "white"
             }
            },
            "type": "table"
           }
          ]
         },
         "layout": {
          "annotationdefaults": {
           "arrowcolor": "#2a3f5f",
           "arrowhead": 0,
           "arrowwidth": 1
          },
          "autotypenumbers": "strict",
          "coloraxis": {
           "colorbar": {
            "outlinewidth": 0,
            "ticks": ""
           }
          },
          "colorscale": {
           "diverging": [
            [
             0,
             "#8e0152"
            ],
            [
             0.1,
             "#c51b7d"
            ],
            [
             0.2,
             "#de77ae"
            ],
            [
             0.3,
             "#f1b6da"
            ],
            [
             0.4,
             "#fde0ef"
            ],
            [
             0.5,
             "#f7f7f7"
            ],
            [
             0.6,
             "#e6f5d0"
            ],
            [
             0.7,
             "#b8e186"
            ],
            [
             0.8,
             "#7fbc41"
            ],
            [
             0.9,
             "#4d9221"
            ],
            [
             1,
             "#276419"
            ]
           ],
           "sequential": [
            [
             0,
             "#0d0887"
            ],
            [
             0.1111111111111111,
             "#46039f"
            ],
            [
             0.2222222222222222,
             "#7201a8"
            ],
            [
             0.3333333333333333,
             "#9c179e"
            ],
            [
             0.4444444444444444,
             "#bd3786"
            ],
            [
             0.5555555555555556,
             "#d8576b"
            ],
            [
             0.6666666666666666,
             "#ed7953"
            ],
            [
             0.7777777777777778,
             "#fb9f3a"
            ],
            [
             0.8888888888888888,
             "#fdca26"
            ],
            [
             1,
             "#f0f921"
            ]
           ],
           "sequentialminus": [
            [
             0,
             "#0d0887"
            ],
            [
             0.1111111111111111,
             "#46039f"
            ],
            [
             0.2222222222222222,
             "#7201a8"
            ],
            [
             0.3333333333333333,
             "#9c179e"
            ],
            [
             0.4444444444444444,
             "#bd3786"
            ],
            [
             0.5555555555555556,
             "#d8576b"
            ],
            [
             0.6666666666666666,
             "#ed7953"
            ],
            [
             0.7777777777777778,
             "#fb9f3a"
            ],
            [
             0.8888888888888888,
             "#fdca26"
            ],
            [
             1,
             "#f0f921"
            ]
           ]
          },
          "colorway": [
           "#636efa",
           "#EF553B",
           "#00cc96",
           "#ab63fa",
           "#FFA15A",
           "#19d3f3",
           "#FF6692",
           "#B6E880",
           "#FF97FF",
           "#FECB52"
          ],
          "font": {
           "color": "#2a3f5f"
          },
          "geo": {
           "bgcolor": "white",
           "lakecolor": "white",
           "landcolor": "#E5ECF6",
           "showlakes": true,
           "showland": true,
           "subunitcolor": "white"
          },
          "hoverlabel": {
           "align": "left"
          },
          "hovermode": "closest",
          "mapbox": {
           "style": "light"
          },
          "paper_bgcolor": "white",
          "plot_bgcolor": "#E5ECF6",
          "polar": {
           "angularaxis": {
            "gridcolor": "white",
            "linecolor": "white",
            "ticks": ""
           },
           "bgcolor": "#E5ECF6",
           "radialaxis": {
            "gridcolor": "white",
            "linecolor": "white",
            "ticks": ""
           }
          },
          "scene": {
           "xaxis": {
            "backgroundcolor": "#E5ECF6",
            "gridcolor": "white",
            "gridwidth": 2,
            "linecolor": "white",
            "showbackground": true,
            "ticks": "",
            "zerolinecolor": "white"
           },
           "yaxis": {
            "backgroundcolor": "#E5ECF6",
            "gridcolor": "white",
            "gridwidth": 2,
            "linecolor": "white",
            "showbackground": true,
            "ticks": "",
            "zerolinecolor": "white"
           },
           "zaxis": {
            "backgroundcolor": "#E5ECF6",
            "gridcolor": "white",
            "gridwidth": 2,
            "linecolor": "white",
            "showbackground": true,
            "ticks": "",
            "zerolinecolor": "white"
           }
          },
          "shapedefaults": {
           "line": {
            "color": "#2a3f5f"
           }
          },
          "ternary": {
           "aaxis": {
            "gridcolor": "white",
            "linecolor": "white",
            "ticks": ""
           },
           "baxis": {
            "gridcolor": "white",
            "linecolor": "white",
            "ticks": ""
           },
           "bgcolor": "#E5ECF6",
           "caxis": {
            "gridcolor": "white",
            "linecolor": "white",
            "ticks": ""
           }
          },
          "title": {
           "x": 0.05
          },
          "xaxis": {
           "automargin": true,
           "gridcolor": "white",
           "linecolor": "white",
           "ticks": "",
           "title": {
            "standoff": 15
           },
           "zerolinecolor": "white",
           "zerolinewidth": 2
          },
          "yaxis": {
           "automargin": true,
           "gridcolor": "white",
           "linecolor": "white",
           "ticks": "",
           "title": {
            "standoff": 15
           },
           "zerolinecolor": "white",
           "zerolinewidth": 2
          }
         }
        },
        "title": {
         "text": "Part 1: 95 Percentile Latency vs Achieved QPS"
        },
        "xaxis": {
         "range": [
          0,
          80000
         ],
         "title": {
          "text": "QPS (actual achieved rather than target)"
         }
        },
        "yaxis": {
         "range": [
          0,
          6
         ],
         "title": {
          "text": "95 Percentile Latency (ms)"
         }
        }
       }
      }
     },
     "metadata": {},
     "output_type": "display_data"
    }
   ],
   "source": [
    "fig = go.Figure()\n",
    "\n",
    "for fname in agg_df[\"filename\"].unique():\n",
    "    sub_df = agg_df[agg_df[\"filename\"] == fname]\n",
    "\n",
    "    fig.add_trace(go.Scatter(\n",
    "        x = sub_df[\"QPS_mean\"],\n",
    "        y = sub_df[\"p95_mean\"]/1000,\n",
    "        mode = \"lines+markers\",\n",
    "        name = fname,\n",
    "        marker = dict(size = 8),\n",
    "        line=dict(width=2),\n",
    "        error_x=dict(\n",
    "            type=\"data\",\n",
    "            array=sub_df[\"QPS_std\"],\n",
    "            thickness=1.5,\n",
    "            color='gray',\n",
    "            width=4\n",
    "        ),\n",
    "        error_y=dict(\n",
    "            type=\"data\",\n",
    "            array=sub_df[\"p95_std\"]/1000,\n",
    "            thickness=1.5,\n",
    "            color='gray',\n",
    "            width=4\n",
    "        ),\n",
    "        text=sub_df['target'],\n",
    "        hovertemplate=(\n",
    "        \"Achieved QPS: %{x}<br>\" +\n",
    "        \"95th Latency: %{y} ms<br>\" +\n",
    "        \"Target QPS: %{text}<extra></extra>\"\n",
    "        )\n",
    "    ))\n",
    "\n",
    "# Layout setting\n",
    "fig.update_layout(\n",
    "    title = \"Part 1: 95 Percentile Latency vs Achieved QPS\",\n",
    "    xaxis_title = \"QPS (actual achieved rather than target)\",\n",
    "    yaxis_title=\"95 Percentile Latency (ms)\",\n",
    "    xaxis = dict(range=[0, 80000]),\n",
    "    yaxis = dict(range=[0, 6]),\n",
    "    legend=dict(\n",
    "        x=0.99,\n",
    "        y=0.99,\n",
    "        xanchor=\"right\",\n",
    "        yanchor=\"top\",\n",
    "        bgcolor=\"rgba(255,255,255,0.7)\",\n",
    "        bordercolor=\"black\",\n",
    "        borderwidth=1,\n",
    "        font=dict(size=12)\n",
    "    )\n",
    ")\n",
    "\n",
    "fig.add_annotation(\n",
    "    text=\"Averaged across 3 runs\",\n",
    "    xref=\"paper\", yref=\"paper\",\n",
    "    x=0.99, y=0.01,\n",
    "    showarrow=False,\n",
    "    font=dict(size=12),\n",
    "    align=\"right\"\n",
    ")\n",
    "\n",
    "fig.show()"
   ]
  },
  {
   "cell_type": "markdown",
   "metadata": {},
   "source": [
    "Save the figure"
   ]
  },
  {
   "cell_type": "code",
   "execution_count": 31,
   "metadata": {},
   "outputs": [],
   "source": [
    "# It seems that I can't store the image locally but the html works\n",
    "# fig.write_image(\"fig/95_percentile_latency_achieved_qps.png\")\n",
    "fig.write_html(\"fig/95_percentile_latency_achieved_qps.html\")"
   ]
  }
 ],
 "metadata": {
  "kernelspec": {
   "display_name": "cca_venv_3129",
   "language": "python",
   "name": "python3"
  },
  "language_info": {
   "codemirror_mode": {
    "name": "ipython",
    "version": 3
   },
   "file_extension": ".py",
   "mimetype": "text/x-python",
   "name": "python",
   "nbconvert_exporter": "python",
   "pygments_lexer": "ipython3",
   "version": "3.12.9"
  }
 },
 "nbformat": 4,
 "nbformat_minor": 2
}
